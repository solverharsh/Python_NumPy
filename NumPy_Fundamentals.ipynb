{
  "nbformat": 4,
  "nbformat_minor": 0,
  "metadata": {
    "colab": {
      "provenance": [],
      "authorship_tag": "ABX9TyOmrY9YgU5l4QcLLks0Aq1c",
      "include_colab_link": true
    },
    "kernelspec": {
      "name": "python3",
      "display_name": "Python 3"
    },
    "language_info": {
      "name": "python"
    }
  },
  "cells": [
    {
      "cell_type": "markdown",
      "metadata": {
        "id": "view-in-github",
        "colab_type": "text"
      },
      "source": [
        "<a href=\"https://colab.research.google.com/github/solverharsh/Python_NumPy/blob/main/NumPy_Fundamentals.ipynb\" target=\"_parent\"><img src=\"https://colab.research.google.com/assets/colab-badge.svg\" alt=\"Open In Colab\"/></a>"
      ]
    },
    {
      "cell_type": "markdown",
      "source": [
        "**What is numpy?**\n",
        "* NumPy is the fundamental package for **scientific** computing in Python.\n",
        "* It is a Python **library** that provides a multidimensional array object, various derived objects (such as masked arrays and matrices), and an assortment of routines for fast operations on arrays, including mathematical, logical, shape manipulation, sorting, selecting, I/O, discrete Fourier transforms, basic linear algebra, basic statistical operations, random simulation and much more.\n",
        "* At the core of the NumPy package, is the **ndarray** object. This encapsulates n-dimensional arrays of homogeneous data types.\n",
        "\n",
        "\n",
        "\n",
        "\n",
        "\n"
      ],
      "metadata": {
        "id": "hXFQvGMvPeic"
      }
    },
    {
      "cell_type": "markdown",
      "source": [
        "**Numpy Arrays Vs Python Sequences :**\n",
        "* NumPy arrays have a fixed size at creation, unlike Python lists (which can grow dynamically). Changing the size of an ndarray will create a new array and delete the original.\n",
        "\n",
        "* The elements in a NumPy array are all required to be of the same data type, and thus will be the same size in memory.\n",
        "\n",
        "* NumPy arrays facilitate advanced mathematical and other types of operations on large numbers of data. Typically, such operations are executed more efficiently and with less code than is possible using Python’s built-in sequences.\n",
        "\n",
        "* A growing plethora of scientific and mathematical Python-based packages are using NumPy arrays; though these typically support Python-sequence input, they convert such input to NumPy arrays prior to processing, and they often output NumPy arrays.\n",
        "\n"
      ],
      "metadata": {
        "id": "NSFRV8WKTCiL"
      }
    },
    {
      "cell_type": "markdown",
      "source": [
        "**1D array :**\n",
        "* A 1D array is a simple list of elements in a single row or column."
      ],
      "metadata": {
        "id": "8WDr9ucIYrky"
      }
    },
    {
      "cell_type": "code",
      "source": [
        "# np.array\n",
        "import numpy as np\n",
        "\n",
        "arr_1d = np.array([1, 2, 3, 4])\n",
        "print(arr_1d)"
      ],
      "metadata": {
        "colab": {
          "base_uri": "https://localhost:8080/"
        },
        "id": "vcFvrQQ_TbwO",
        "outputId": "579a91ae-b858-4a3e-8731-34c7af4c7f35"
      },
      "execution_count": 2,
      "outputs": [
        {
          "output_type": "stream",
          "name": "stdout",
          "text": [
            "[1 2 3 4]\n"
          ]
        }
      ]
    },
    {
      "cell_type": "markdown",
      "source": [
        "**2D array (matrix) :**\n",
        "* A 2D array has two dimensions: rows and columns, like a table or matrix."
      ],
      "metadata": {
        "id": "qhyVC7mfYdqO"
      }
    },
    {
      "cell_type": "code",
      "source": [
        "arr_2d = np.array([[1, 2, 3], [4, 5, 6], [7, 8, 9]])\n",
        "print(arr_2d)"
      ],
      "metadata": {
        "colab": {
          "base_uri": "https://localhost:8080/"
        },
        "id": "puZZWZf-VFtX",
        "outputId": "101ca9b9-b689-4cea-d62a-59545f376223"
      },
      "execution_count": 11,
      "outputs": [
        {
          "output_type": "stream",
          "name": "stdout",
          "text": [
            "[[1 2 3]\n",
            " [4 5 6]\n",
            " [7 8 9]]\n"
          ]
        }
      ]
    },
    {
      "cell_type": "markdown",
      "source": [
        "**3D Array :**\n",
        "* A 3D array extends the idea of 2D arrays by adding a third dimension, like a cube or a stack of matrices. In a 3D array, each element is accessed with three indices: [depth][row][column].\n",
        "\n",
        "* Think of it as a stack of 2D arrays. For example, imagine a box containing three 2D arrays (like multiple pages in a book):"
      ],
      "metadata": {
        "id": "Cg4-OnecYBwS"
      }
    },
    {
      "cell_type": "code",
      "source": [
        "# 3D array\n",
        "arr_3d = np.array([[[1, 2, 3], [4, 5, 6]], [[7, 8, 9], [10, 11, 12]], [[13, 14, 15], [16, 17, 18]]])\n",
        "print(arr_3d)\n"
      ],
      "metadata": {
        "colab": {
          "base_uri": "https://localhost:8080/"
        },
        "id": "foFk_T7PVbgT",
        "outputId": "91d13629-3031-4310-8a13-d5f5c55a397c"
      },
      "execution_count": 10,
      "outputs": [
        {
          "output_type": "stream",
          "name": "stdout",
          "text": [
            "[[[ 1  2  3]\n",
            "  [ 4  5  6]]\n",
            "\n",
            " [[ 7  8  9]\n",
            "  [10 11 12]]\n",
            "\n",
            " [[13 14 15]\n",
            "  [16 17 18]]]\n"
          ]
        }
      ]
    },
    {
      "cell_type": "code",
      "source": [
        "a_3d = np.array([[[1,2],[3,4]],[[5,6],[7,8]],[[9,10],[11,12]]])\n",
        "print(a_3d)\n",
        "# Here, the array consists of 3 layers (depth), and each layer has 2 rows and 3 columns."
      ],
      "metadata": {
        "colab": {
          "base_uri": "https://localhost:8080/"
        },
        "id": "CyA1gi3wX_Lg",
        "outputId": "ca03e960-20a6-4e5f-c688-4b036a44686d"
      },
      "execution_count": 12,
      "outputs": [
        {
          "output_type": "stream",
          "name": "stdout",
          "text": [
            "[[[ 1  2]\n",
            "  [ 3  4]]\n",
            "\n",
            " [[ 5  6]\n",
            "  [ 7  8]]\n",
            "\n",
            " [[ 9 10]\n",
            "  [11 12]]]\n"
          ]
        }
      ]
    },
    {
      "cell_type": "markdown",
      "source": [
        "**Conclusion :**\n",
        "* A 3D array is a multi-dimensional structure where each element is indexed by three values: [depth][row][column].\n",
        "\n",
        "* It's like a stack of 2D matrices, and you can access and manipulate individual elements, rows, or layers.\n",
        "\n",
        "* You can apply operations to 3D arrays just like any other NumPy array, and it’s very useful for working with things like images, volumes, or scientific data that require three dimensions."
      ],
      "metadata": {
        "id": "DtuzpHwucXWk"
      }
    },
    {
      "cell_type": "markdown",
      "source": [
        "**1. What is dtype?**\n",
        "* dtype (short for \"data type\") in NumPy refers to the type of the elements in the array.\n",
        "\n",
        "* It determines the format of the data stored in the array and how much memory each element occupies.\n",
        "\n",
        "* Every NumPy array has an associated dtype object, which defines the type and properties of the array's elements.\n",
        "\n",
        "**2. Why is dtype important?**\n",
        "* The dtype ensures efficient use of memory by specifying the size of the data elements.\n",
        "* It also allows NumPy to perform optimized operations based on the data type (e.g., using hardware-specific instructions).\n",
        "* It helps you perform type-specific operations (e.g., performing mathematical operations on floating-point numbers, integer numbers, etc.)."
      ],
      "metadata": {
        "id": "_dUnooyeICxI"
      }
    },
    {
      "cell_type": "code",
      "source": [
        "dt = np.array(['1', '2'], dtype='timedelta64[D]')\n",
        "print(dt)"
      ],
      "metadata": {
        "colab": {
          "base_uri": "https://localhost:8080/"
        },
        "id": "uBHlxX_aatpQ",
        "outputId": "090332c2-c3dd-4d09-ce9f-69e71c5ff88b"
      },
      "execution_count": 4,
      "outputs": [
        {
          "output_type": "stream",
          "name": "stdout",
          "text": [
            "[1 2]\n"
          ]
        }
      ]
    },
    {
      "cell_type": "code",
      "source": [
        "dt = np.array(['2021-01-01', '2022-02-02'], dtype='datetime64[D]')\n",
        "print(dt)"
      ],
      "metadata": {
        "colab": {
          "base_uri": "https://localhost:8080/"
        },
        "id": "h_iSNGwZGS2a",
        "outputId": "36022de8-2abe-4b11-d98b-be12cb80c54b"
      },
      "execution_count": 5,
      "outputs": [
        {
          "output_type": "stream",
          "name": "stdout",
          "text": [
            "['2021-01-01' '2022-02-02']\n"
          ]
        }
      ]
    },
    {
      "cell_type": "code",
      "source": [
        "arr = np.array([1,2,3],dtype = np.int32)\n",
        "print(arr.dtype)"
      ],
      "metadata": {
        "colab": {
          "base_uri": "https://localhost:8080/"
        },
        "id": "Lag-x35bLR6t",
        "outputId": "2bd5d50d-94d3-4b2d-ab92-471787678355"
      },
      "execution_count": 6,
      "outputs": [
        {
          "output_type": "stream",
          "name": "stdout",
          "text": [
            "int32\n"
          ]
        }
      ]
    },
    {
      "cell_type": "code",
      "source": [
        "arr = np.array([1,2,3],dtype = np.float64)\n",
        "print(arr.dtype)"
      ],
      "metadata": {
        "colab": {
          "base_uri": "https://localhost:8080/"
        },
        "id": "OAkkOrMyLb_O",
        "outputId": "c265d22c-420c-4eb7-881a-9c6fd09be97b"
      },
      "execution_count": 7,
      "outputs": [
        {
          "output_type": "stream",
          "name": "stdout",
          "text": [
            "float64\n"
          ]
        }
      ]
    },
    {
      "cell_type": "markdown",
      "source": [
        "**Type Casting (Changing dtype)**  \n",
        "* You can change the dtype of an existing NumPy array using the astype() method"
      ],
      "metadata": {
        "id": "TV_aMbBqLnSo"
      }
    },
    {
      "cell_type": "code",
      "source": [
        "arr = np.array([1,2,3,4] , dtype = np.float64)\n",
        "print(arr.dtype)\n",
        "\n",
        "arr1 = arr.astype(np.int32)\n",
        "print(arr1.dtype)"
      ],
      "metadata": {
        "colab": {
          "base_uri": "https://localhost:8080/"
        },
        "id": "mFRd6D6SLkDu",
        "outputId": "8a00c2ec-5ecd-4354-f8c6-8b8464c09c81"
      },
      "execution_count": 9,
      "outputs": [
        {
          "output_type": "stream",
          "name": "stdout",
          "text": [
            "float64\n",
            "int32\n"
          ]
        }
      ]
    },
    {
      "cell_type": "code",
      "source": [],
      "metadata": {
        "id": "uM_EL8iAMM1Y"
      },
      "execution_count": null,
      "outputs": []
    }
  ]
}
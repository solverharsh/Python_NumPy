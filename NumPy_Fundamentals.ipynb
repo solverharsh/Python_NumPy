{
  "nbformat": 4,
  "nbformat_minor": 0,
  "metadata": {
    "colab": {
      "provenance": [],
      "authorship_tag": "ABX9TyP7igXcqr34whC0po2SNFk7",
      "include_colab_link": true
    },
    "kernelspec": {
      "name": "python3",
      "display_name": "Python 3"
    },
    "language_info": {
      "name": "python"
    }
  },
  "cells": [
    {
      "cell_type": "markdown",
      "metadata": {
        "id": "view-in-github",
        "colab_type": "text"
      },
      "source": [
        "<a href=\"https://colab.research.google.com/github/solverharsh/Python_NumPy/blob/main/NumPy_Fundamentals.ipynb\" target=\"_parent\"><img src=\"https://colab.research.google.com/assets/colab-badge.svg\" alt=\"Open In Colab\"/></a>"
      ]
    },
    {
      "cell_type": "markdown",
      "source": [
        "**What is numpy?**\n",
        "* NumPy is the fundamental package for **scientific** computing in Python.\n",
        "* It is a Python **library** that provides a multidimensional array object, various derived objects (such as masked arrays and matrices), and an assortment of routines for fast operations on arrays, including mathematical, logical, shape manipulation, sorting, selecting, I/O, discrete Fourier transforms, basic linear algebra, basic statistical operations, random simulation and much more.\n",
        "* At the core of the NumPy package, is the **ndarray** object. This encapsulates n-dimensional arrays of homogeneous data types.\n",
        "\n",
        "\n",
        "\n",
        "\n",
        "\n"
      ],
      "metadata": {
        "id": "hXFQvGMvPeic"
      }
    },
    {
      "cell_type": "markdown",
      "source": [
        "**Numpy Arrays Vs Python Sequences :**\n",
        "* NumPy arrays have a fixed size at creation, unlike Python lists (which can grow dynamically). Changing the size of an ndarray will create a new array and delete the original.\n",
        "\n",
        "* The elements in a NumPy array are all required to be of the same data type, and thus will be the same size in memory.\n",
        "\n",
        "* NumPy arrays facilitate advanced mathematical and other types of operations on large numbers of data. Typically, such operations are executed more efficiently and with less code than is possible using Python’s built-in sequences.\n",
        "\n",
        "* A growing plethora of scientific and mathematical Python-based packages are using NumPy arrays; though these typically support Python-sequence input, they convert such input to NumPy arrays prior to processing, and they often output NumPy arrays.\n",
        "\n"
      ],
      "metadata": {
        "id": "NSFRV8WKTCiL"
      }
    },
    {
      "cell_type": "markdown",
      "source": [
        "**1D array :**\n",
        "* A 1D array is a simple list of elements in a single row or column."
      ],
      "metadata": {
        "id": "8WDr9ucIYrky"
      }
    },
    {
      "cell_type": "code",
      "source": [
        "# np.array\n",
        "import numpy as np\n",
        "\n",
        "arr_1d = np.array([1, 2, 3, 4])\n",
        "print(arr_1d)"
      ],
      "metadata": {
        "colab": {
          "base_uri": "https://localhost:8080/"
        },
        "id": "vcFvrQQ_TbwO",
        "outputId": "579a91ae-b858-4a3e-8731-34c7af4c7f35"
      },
      "execution_count": null,
      "outputs": [
        {
          "output_type": "stream",
          "name": "stdout",
          "text": [
            "[1 2 3 4]\n"
          ]
        }
      ]
    },
    {
      "cell_type": "markdown",
      "source": [
        "**2D array (matrix) :**\n",
        "* A 2D array has two dimensions: rows and columns, like a table or matrix."
      ],
      "metadata": {
        "id": "qhyVC7mfYdqO"
      }
    },
    {
      "cell_type": "code",
      "source": [
        "arr_2d = np.array([[1, 2, 3], [4, 5, 6], [7, 8, 9]])\n",
        "print(arr_2d)"
      ],
      "metadata": {
        "colab": {
          "base_uri": "https://localhost:8080/"
        },
        "id": "puZZWZf-VFtX",
        "outputId": "101ca9b9-b689-4cea-d62a-59545f376223"
      },
      "execution_count": null,
      "outputs": [
        {
          "output_type": "stream",
          "name": "stdout",
          "text": [
            "[[1 2 3]\n",
            " [4 5 6]\n",
            " [7 8 9]]\n"
          ]
        }
      ]
    },
    {
      "cell_type": "markdown",
      "source": [
        "**3D Array :**\n",
        "* A 3D array extends the idea of 2D arrays by adding a third dimension, like a cube or a stack of matrices. In a 3D array, each element is accessed with three indices: [depth][row][column].\n",
        "\n",
        "* Think of it as a stack of 2D arrays. For example, imagine a box containing three 2D arrays (like multiple pages in a book):"
      ],
      "metadata": {
        "id": "Cg4-OnecYBwS"
      }
    },
    {
      "cell_type": "code",
      "source": [
        "# 3D array\n",
        "arr_3d = np.array([[[1, 2, 3], [4, 5, 6]], [[7, 8, 9], [10, 11, 12]], [[13, 14, 15], [16, 17, 18]]])\n",
        "print(arr_3d)\n"
      ],
      "metadata": {
        "colab": {
          "base_uri": "https://localhost:8080/"
        },
        "id": "foFk_T7PVbgT",
        "outputId": "91d13629-3031-4310-8a13-d5f5c55a397c"
      },
      "execution_count": null,
      "outputs": [
        {
          "output_type": "stream",
          "name": "stdout",
          "text": [
            "[[[ 1  2  3]\n",
            "  [ 4  5  6]]\n",
            "\n",
            " [[ 7  8  9]\n",
            "  [10 11 12]]\n",
            "\n",
            " [[13 14 15]\n",
            "  [16 17 18]]]\n"
          ]
        }
      ]
    },
    {
      "cell_type": "code",
      "source": [
        "a_3d = np.array([[[1,2],[3,4]],[[5,6],[7,8]],[[9,10],[11,12]]])\n",
        "print(a_3d)\n",
        "# Here, the array consists of 3 layers (depth), and each layer has 2 rows and 3 columns."
      ],
      "metadata": {
        "colab": {
          "base_uri": "https://localhost:8080/"
        },
        "id": "CyA1gi3wX_Lg",
        "outputId": "ca03e960-20a6-4e5f-c688-4b036a44686d"
      },
      "execution_count": null,
      "outputs": [
        {
          "output_type": "stream",
          "name": "stdout",
          "text": [
            "[[[ 1  2]\n",
            "  [ 3  4]]\n",
            "\n",
            " [[ 5  6]\n",
            "  [ 7  8]]\n",
            "\n",
            " [[ 9 10]\n",
            "  [11 12]]]\n"
          ]
        }
      ]
    },
    {
      "cell_type": "markdown",
      "source": [
        "**Conclusion :**\n",
        "* A 3D array is a multi-dimensional structure where each element is indexed by three values: [depth][row][column].\n",
        "\n",
        "* It's like a stack of 2D matrices, and you can access and manipulate individual elements, rows, or layers.\n",
        "\n",
        "* You can apply operations to 3D arrays just like any other NumPy array, and it’s very useful for working with things like images, volumes, or scientific data that require three dimensions."
      ],
      "metadata": {
        "id": "DtuzpHwucXWk"
      }
    },
    {
      "cell_type": "markdown",
      "source": [
        "**1. What is dtype?**\n",
        "* dtype (short for \"data type\") in NumPy refers to the type of the elements in the array.\n",
        "\n",
        "* It determines the format of the data stored in the array and how much memory each element occupies.\n",
        "\n",
        "* Every NumPy array has an associated dtype object, which defines the type and properties of the array's elements.\n",
        "\n",
        "**2. Why is dtype important?**\n",
        "* The dtype ensures efficient use of memory by specifying the size of the data elements.\n",
        "* It also allows NumPy to perform optimized operations based on the data type (e.g., using hardware-specific instructions).\n",
        "* It helps you perform type-specific operations (e.g., performing mathematical operations on floating-point numbers, integer numbers, etc.)."
      ],
      "metadata": {
        "id": "_dUnooyeICxI"
      }
    },
    {
      "cell_type": "code",
      "source": [
        "dt = np.array(['1', '2'], dtype='timedelta64[D]')\n",
        "print(dt)"
      ],
      "metadata": {
        "colab": {
          "base_uri": "https://localhost:8080/"
        },
        "id": "uBHlxX_aatpQ",
        "outputId": "090332c2-c3dd-4d09-ce9f-69e71c5ff88b"
      },
      "execution_count": null,
      "outputs": [
        {
          "output_type": "stream",
          "name": "stdout",
          "text": [
            "[1 2]\n"
          ]
        }
      ]
    },
    {
      "cell_type": "code",
      "source": [
        "dt = np.array(['2021-01-01', '2022-02-02'], dtype='datetime64[D]')\n",
        "print(dt)"
      ],
      "metadata": {
        "colab": {
          "base_uri": "https://localhost:8080/"
        },
        "id": "h_iSNGwZGS2a",
        "outputId": "36022de8-2abe-4b11-d98b-be12cb80c54b"
      },
      "execution_count": null,
      "outputs": [
        {
          "output_type": "stream",
          "name": "stdout",
          "text": [
            "['2021-01-01' '2022-02-02']\n"
          ]
        }
      ]
    },
    {
      "cell_type": "code",
      "source": [
        "arr_int = np.array([1,2,3],dtype = np.int32)\n",
        "print(arr_int.dtype)"
      ],
      "metadata": {
        "colab": {
          "base_uri": "https://localhost:8080/"
        },
        "id": "Lag-x35bLR6t",
        "outputId": "90871c75-0f35-4b1d-a69d-7377770d47ca"
      },
      "execution_count": 12,
      "outputs": [
        {
          "output_type": "stream",
          "name": "stdout",
          "text": [
            "int32\n"
          ]
        }
      ]
    },
    {
      "cell_type": "code",
      "source": [
        "arr_float = np.array([1,2,3],dtype = np.float64)\n",
        "print(arr_float.dtype)"
      ],
      "metadata": {
        "colab": {
          "base_uri": "https://localhost:8080/"
        },
        "id": "OAkkOrMyLb_O",
        "outputId": "ae8e9fb8-8d92-4c31-b98c-b1b79eb8590f"
      },
      "execution_count": 11,
      "outputs": [
        {
          "output_type": "stream",
          "name": "stdout",
          "text": [
            "float64\n"
          ]
        }
      ]
    },
    {
      "cell_type": "markdown",
      "source": [
        "**Type Casting (Changing dtype)**  \n",
        "* You can change the dtype of an existing NumPy array using the astype() method"
      ],
      "metadata": {
        "id": "TV_aMbBqLnSo"
      }
    },
    {
      "cell_type": "code",
      "source": [
        "arr_float = np.array([1,2,3,4] , dtype = np.float64)\n",
        "print(arr_float.dtype)\n",
        "\n",
        "arr_int = arr_float.astype(np.int32)\n",
        "print(arr_int.dtype)"
      ],
      "metadata": {
        "colab": {
          "base_uri": "https://localhost:8080/"
        },
        "id": "mFRd6D6SLkDu",
        "outputId": "435a5a5e-7b81-4ad5-b07e-13cad65a1182"
      },
      "execution_count": 15,
      "outputs": [
        {
          "output_type": "stream",
          "name": "stdout",
          "text": [
            "float64\n",
            "int32\n"
          ]
        }
      ]
    },
    {
      "cell_type": "code",
      "source": [
        "arr = np.array([1, 2, 3])  # Automatically inferred dtype\n",
        "print(arr.dtype)  # Output: int32 or int64 (depends on the system)"
      ],
      "metadata": {
        "colab": {
          "base_uri": "https://localhost:8080/"
        },
        "id": "t_X0aOcAV5PG",
        "outputId": "dc8ba35e-da3f-47dc-92cf-8eca5b09e91e"
      },
      "execution_count": 16,
      "outputs": [
        {
          "output_type": "stream",
          "name": "stdout",
          "text": [
            "int64\n"
          ]
        }
      ]
    },
    {
      "cell_type": "markdown",
      "source": [
        "**Important Notes:**\n",
        "\n",
        "* Casting with loss of information: When you cast from a larger data type (like float64) to a smaller one (like int32), you may lose precision or data (e.g., decimals get truncated).\n",
        "\n",
        "* Safe casting: Some types can be safely cast (e.g., from int32 to int64), while others might require special handling due to precision loss (e.g., from float64 to int32)."
      ],
      "metadata": {
        "id": "SVVzgvNFX3mZ"
      }
    },
    {
      "cell_type": "code",
      "source": [
        "# Define a structured dtype with two fields: 'name' (string) and 'age' (integer)\n",
        "dt = np.dtype([('name', 'S10'), ('age', 'i4')])\n",
        "\n",
        "# Create an array with structured dtype\n",
        "arr = np.array([('Alice', 25), ('Bob', 30)], dtype=dt)\n",
        "\n",
        "print(arr)\n",
        "# Output: [(b'Alice', 25) (b'Bob', 30)]\n"
      ],
      "metadata": {
        "id": "uM_EL8iAMM1Y",
        "colab": {
          "base_uri": "https://localhost:8080/"
        },
        "outputId": "00266271-c1e8-4d89-bf0a-168489f09bcd"
      },
      "execution_count": 17,
      "outputs": [
        {
          "output_type": "stream",
          "name": "stdout",
          "text": [
            "[(b'Alice', 25) (b'Bob', 30)]\n"
          ]
        }
      ]
    },
    {
      "cell_type": "code",
      "source": [
        "print(arr['name'])  # Output: [b'Alice' b'Bob']\n",
        "print(arr['age'])   # Output: [25 30]\n"
      ],
      "metadata": {
        "colab": {
          "base_uri": "https://localhost:8080/"
        },
        "id": "Dl3dWg7DYQNw",
        "outputId": "16fdbd05-ebf3-469b-b143-3d5244d91b04"
      },
      "execution_count": 18,
      "outputs": [
        {
          "output_type": "stream",
          "name": "stdout",
          "text": [
            "[b'Alice' b'Bob']\n",
            "[25 30]\n"
          ]
        }
      ]
    },
    {
      "cell_type": "markdown",
      "source": [
        "**Common Data Types :**  \n",
        " * NumPy supports a wide variety of dtype values. Some of the common ones are:\n",
        "\n",
        "**Integer types:**\n",
        "\n",
        "* np.int8: 8-bit signed integer\n",
        "\n",
        "* np.int16: 16-bit signed integer\n",
        "\n",
        "* np.int32: 32-bit signed integer\n",
        "\n",
        "* np.int64: 64-bit signed integer\n",
        "\n",
        "* np.uint8: 8-bit unsigned integer\n",
        "\n",
        "* np.uint16: 16-bit unsigned integer\n",
        "\n",
        "* np.uint32: 32-bit unsigned integer\n",
        "\n",
        "* np.uint64: 64-bit unsigned integer\n",
        "\n",
        "**Floating-point types:**\n",
        "\n",
        "* np.float16: 16-bit floating point\n",
        "\n",
        "* np.float32: 32-bit floating point\n",
        "\n",
        "* np.float64: 64-bit floating point (most common default)\n",
        "\n",
        "**Complex types:**\n",
        "\n",
        "* np.complex64: Complex number, 64 bits\n",
        "\n",
        "* np.complex128: Complex number, 128 bits\n",
        "\n",
        "**Boolean type:**\n",
        "* np.bool: Boolean type (True/False values)\n",
        "\n",
        "**String type:**\n",
        "\n",
        "* np.str_: Fixed-size string (default size depends on system)\n",
        "\n",
        "* np.unicode_: Unicode string\n",
        "\n",
        "**Object type:**\n",
        "* np.object: A general-purpose container type that holds any Python object"
      ],
      "metadata": {
        "id": "jEz8henLZ3gR"
      }
    },
    {
      "cell_type": "code",
      "source": [
        "# np.arange\n",
        "arr = np.arange(10)\n",
        "print(arr)"
      ],
      "metadata": {
        "colab": {
          "base_uri": "https://localhost:8080/"
        },
        "id": "WBlm5aUnYU_O",
        "outputId": "35b39b99-5c95-4fce-eccf-29474a1e942d"
      },
      "execution_count": 23,
      "outputs": [
        {
          "output_type": "stream",
          "name": "stdout",
          "text": [
            "[0 1 2 3 4 5 6 7 8 9]\n"
          ]
        }
      ]
    },
    {
      "cell_type": "code",
      "source": [
        "# with reshape\n",
        "arr_reshaped = np.arange(12).reshape(3,4)\n",
        "print(arr_reshaped)"
      ],
      "metadata": {
        "colab": {
          "base_uri": "https://localhost:8080/"
        },
        "id": "Dkq2YGdLcNGQ",
        "outputId": "0b1da94d-322b-406f-fa0e-ea5389140bea"
      },
      "execution_count": 24,
      "outputs": [
        {
          "output_type": "stream",
          "name": "stdout",
          "text": [
            "[[ 0  1  2  3]\n",
            " [ 4  5  6  7]\n",
            " [ 8  9 10 11]]\n"
          ]
        }
      ]
    },
    {
      "cell_type": "code",
      "source": [
        "# np.ones and np.zeros\n",
        "arr_zeros = np.zeros((3,4))\n",
        "print(arr_zeros)"
      ],
      "metadata": {
        "colab": {
          "base_uri": "https://localhost:8080/"
        },
        "id": "JDOlGD-UchJj",
        "outputId": "413c089d-8e43-43a2-ef52-d879436eccf9"
      },
      "execution_count": 26,
      "outputs": [
        {
          "output_type": "stream",
          "name": "stdout",
          "text": [
            "[[0. 0. 0. 0.]\n",
            " [0. 0. 0. 0.]\n",
            " [0. 0. 0. 0.]]\n"
          ]
        }
      ]
    },
    {
      "cell_type": "code",
      "source": [
        "arr_ones = np.ones((3,4))\n",
        "print(arr_ones)"
      ],
      "metadata": {
        "colab": {
          "base_uri": "https://localhost:8080/"
        },
        "id": "vORkDMHCcwn_",
        "outputId": "5409898c-c315-443a-b75c-7cabdef659bd"
      },
      "execution_count": 27,
      "outputs": [
        {
          "output_type": "stream",
          "name": "stdout",
          "text": [
            "[[1. 1. 1. 1.]\n",
            " [1. 1. 1. 1.]\n",
            " [1. 1. 1. 1.]]\n"
          ]
        }
      ]
    },
    {
      "cell_type": "code",
      "source": [
        "arr_random = np.random.random((3,4))\n",
        "print(arr_random)"
      ],
      "metadata": {
        "colab": {
          "base_uri": "https://localhost:8080/"
        },
        "id": "YHTnhkWPc7gy",
        "outputId": "83cac788-003a-43b2-a0f7-7873fd474dd3"
      },
      "execution_count": 35,
      "outputs": [
        {
          "output_type": "stream",
          "name": "stdout",
          "text": [
            "[[0.60698038 0.34128222 0.08071456 0.22749134]\n",
            " [0.0773371  0.97451547 0.04783559 0.5720402 ]\n",
            " [0.42601266 0.33519647 0.50571239 0.14407097]]\n"
          ]
        }
      ]
    },
    {
      "cell_type": "code",
      "source": [
        "np.linspace(-10,10,10,dtype = int)\n"
      ],
      "metadata": {
        "colab": {
          "base_uri": "https://localhost:8080/"
        },
        "id": "dd8mbIiXdBjM",
        "outputId": "3517a297-8431-4514-e590-326b8096d6ab"
      },
      "execution_count": 36,
      "outputs": [
        {
          "output_type": "execute_result",
          "data": {
            "text/plain": [
              "array([-10,  -8,  -6,  -4,  -2,   1,   3,   5,   7,  10])"
            ]
          },
          "metadata": {},
          "execution_count": 36
        }
      ]
    },
    {
      "cell_type": "code",
      "source": [
        "np.identity(4)"
      ],
      "metadata": {
        "colab": {
          "base_uri": "https://localhost:8080/"
        },
        "id": "gV7p_TVudlRx",
        "outputId": "23c733ec-4dc7-4289-fa06-c469d9221434"
      },
      "execution_count": 38,
      "outputs": [
        {
          "output_type": "execute_result",
          "data": {
            "text/plain": [
              "array([[1., 0., 0., 0.],\n",
              "       [0., 1., 0., 0.],\n",
              "       [0., 0., 1., 0.],\n",
              "       [0., 0., 0., 1.]])"
            ]
          },
          "metadata": {},
          "execution_count": 38
        }
      ]
    },
    {
      "cell_type": "markdown",
      "source": [
        "**Why is ndim Important?**\n",
        "* Understanding Array Shape: Knowing the number of dimensions of an array is crucial when you're working with operations like reshaping, slicing, or performing mathematical operations.\n",
        "\n",
        "* Matrix Operations: For linear algebra operations, it's important to know whether you're dealing with vectors (1D), matrices (2D), or higher-dimensional arrays (e.g., 3D or 4D).\n",
        "\n",
        "* Compatibility: Some functions and algorithms in NumPy require arrays to be a certain number of dimensions, and ndim can help ensure the array conforms to these requirements."
      ],
      "metadata": {
        "id": "vz0hSGNbhYpY"
      }
    },
    {
      "cell_type": "code",
      "source": [
        "import numpy as np\n",
        "\n",
        "arr_1d = np.array([1, 2, 3, 4, 5])\n",
        "print(arr_1d.ndim)  # Output: 1\n"
      ],
      "metadata": {
        "colab": {
          "base_uri": "https://localhost:8080/"
        },
        "id": "QTzqkIt-dqeo",
        "outputId": "a55d638c-8b3e-470b-f632-cabee9b80692"
      },
      "execution_count": 39,
      "outputs": [
        {
          "output_type": "stream",
          "name": "stdout",
          "text": [
            "1\n"
          ]
        }
      ]
    },
    {
      "cell_type": "code",
      "source": [
        "arr_2d = np.array([[1, 2, 3], [4, 5, 6], [7, 8, 9]])\n",
        "print(arr_2d.ndim)  # Output: 2"
      ],
      "metadata": {
        "colab": {
          "base_uri": "https://localhost:8080/"
        },
        "id": "SEbxmkpihP-E",
        "outputId": "9f013732-4dde-4502-e4b4-dc9464f42a2c"
      },
      "execution_count": 40,
      "outputs": [
        {
          "output_type": "stream",
          "name": "stdout",
          "text": [
            "2\n"
          ]
        }
      ]
    },
    {
      "cell_type": "code",
      "source": [
        "arr_3d = np.array([[[1, 2], [3, 4]], [[5, 6], [7, 8]]])\n",
        "print(arr_3d.ndim)  # Output: 3\n"
      ],
      "metadata": {
        "colab": {
          "base_uri": "https://localhost:8080/"
        },
        "id": "KhfD9pKlhRhz",
        "outputId": "1c90661c-1559-48fe-a498-02f7af97a5d5"
      },
      "execution_count": 41,
      "outputs": [
        {
          "output_type": "stream",
          "name": "stdout",
          "text": [
            "3\n"
          ]
        }
      ]
    },
    {
      "cell_type": "code",
      "source": [
        "arr1 = np.arange(10 ,dtype = np.int32)\n",
        "arr2 = np.arange(12 ,dtype = np.float32).reshape(3,4)\n",
        "arr3 = np.arange(8,dtype = int).reshape(2,2,2)"
      ],
      "metadata": {
        "id": "tnk6bZCJhTav"
      },
      "execution_count": 43,
      "outputs": []
    },
    {
      "cell_type": "code",
      "source": [
        "print(arr1.ndim)\n",
        "print(arr2.ndim)\n",
        "print(arr3.ndim)"
      ],
      "metadata": {
        "colab": {
          "base_uri": "https://localhost:8080/"
        },
        "id": "6uiOHwtBh672",
        "outputId": "fc70fe9f-5f7e-44e2-d406-63d1d23e41d4"
      },
      "execution_count": 44,
      "outputs": [
        {
          "output_type": "stream",
          "name": "stdout",
          "text": [
            "1\n",
            "2\n",
            "3\n"
          ]
        }
      ]
    },
    {
      "cell_type": "markdown",
      "source": [
        "**What is shape in NumPy?**\n",
        "* The shape of a NumPy array is a tuple that describes the number of elements along each axis of the array.\n",
        "\n",
        "* For a 1D array, shape will be a tuple with a single value (the number of elements).\n",
        "\n",
        "* For a 2D array, shape will be a tuple with two values (the number of rows and columns).\n",
        "\n",
        "* For a 3D array, shape will have three values (depth, rows, and columns), and so on.A 3D array has three axes (depth, rows, and columns). The shape will contain three values — the depth (number of 2D matrices), number of rows, and number of columns.\n",
        "\n"
      ],
      "metadata": {
        "id": "Y8CYs2ZdjHQI"
      }
    },
    {
      "cell_type": "code",
      "source": [
        "print(arr1.shape)\n",
        "print(arr2.shape)\n",
        "print(arr3.shape)"
      ],
      "metadata": {
        "colab": {
          "base_uri": "https://localhost:8080/"
        },
        "id": "qx7Bz8SbiP4z",
        "outputId": "81d811b2-9450-48d1-9984-d799b1cd575e"
      },
      "execution_count": 45,
      "outputs": [
        {
          "output_type": "stream",
          "name": "stdout",
          "text": [
            "(10,)\n",
            "(3, 4)\n",
            "(2, 2, 2)\n"
          ]
        }
      ]
    },
    {
      "cell_type": "code",
      "source": [
        "arr = np.array([1, 2, 3, 4, 5, 6])\n",
        "arr.shape = (2, 3)\n",
        "print(arr)  # Output: [[1 2 3]\n",
        "           #          [4 5 6]]\n",
        "print(arr.shape)  # Output: (2, 3)\n",
        "# Here, the shape is directly modified from (6,) to (2, 3)."
      ],
      "metadata": {
        "colab": {
          "base_uri": "https://localhost:8080/"
        },
        "id": "wwd9BE6biYxk",
        "outputId": "77b595a2-7245-4587-8324-e7594fa17417"
      },
      "execution_count": 46,
      "outputs": [
        {
          "output_type": "stream",
          "name": "stdout",
          "text": [
            "[[1 2 3]\n",
            " [4 5 6]]\n",
            "(2, 3)\n"
          ]
        }
      ]
    },
    {
      "cell_type": "code",
      "source": [
        "# size\n",
        "print(arr1.size)\n",
        "print(arr2.size)\n",
        "print(arr3.size)"
      ],
      "metadata": {
        "colab": {
          "base_uri": "https://localhost:8080/"
        },
        "id": "4J6JPL7BkBt_",
        "outputId": "955d214e-8ac3-42d2-fa0b-22ca17ed3941"
      },
      "execution_count": 50,
      "outputs": [
        {
          "output_type": "stream",
          "name": "stdout",
          "text": [
            "10\n",
            "12\n",
            "8\n"
          ]
        }
      ]
    },
    {
      "cell_type": "markdown",
      "source": [
        "**itemsize in NumPy**\n",
        "* The itemsize is particularly useful for understanding how much memory your array occupies, as it indicates how large each element is in terms of memory.\n",
        "\n"
      ],
      "metadata": {
        "id": "Rilh8h5kmAJ5"
      }
    },
    {
      "cell_type": "code",
      "source": [
        "import numpy as np\n",
        "\n",
        "# Creating an array of integers\n",
        "arr_int = np.array([1, 2, 3, 4])\n",
        "print(arr_int.itemsize)  # Output: 8 (for int64)\n",
        "\n",
        "# Creating an array of floats\n",
        "arr_float = np.array([1.0, 2.0, 3.0, 4.0])\n",
        "print(arr_float.itemsize)  # Output: 8 (for float64)\n",
        "\n",
        "# Creating an array of booleans\n",
        "arr_bool = np.array([True, False, True])\n",
        "print(arr_bool.itemsize)  # Output: 1 (for bool)\n"
      ],
      "metadata": {
        "colab": {
          "base_uri": "https://localhost:8080/"
        },
        "id": "qrjc2TFRkRgT",
        "outputId": "dbe5b313-4338-4e23-d6bb-b02af7e7fe09"
      },
      "execution_count": 53,
      "outputs": [
        {
          "output_type": "stream",
          "name": "stdout",
          "text": [
            "8\n",
            "8\n",
            "1\n"
          ]
        }
      ]
    },
    {
      "cell_type": "code",
      "source": [
        "import numpy as np\n",
        "\n",
        "arr = np.array([[1, 2], [3, 4], [5, 6]], dtype=np.int64)\n",
        "\n",
        "# Calculate total memory usage\n",
        "total_memory = arr.size * arr.itemsize\n",
        "print(f\"Total memory usage: {total_memory} bytes\")  # Output: 48 bytes\n"
      ],
      "metadata": {
        "colab": {
          "base_uri": "https://localhost:8080/"
        },
        "id": "kwzxKFdzk5eY",
        "outputId": "1bac80b6-7833-452f-f096-6f0d0be0c2e2"
      },
      "execution_count": 54,
      "outputs": [
        {
          "output_type": "stream",
          "name": "stdout",
          "text": [
            "Total memory usage: 48 bytes\n"
          ]
        }
      ]
    },
    {
      "cell_type": "markdown",
      "source": [
        "# Array Operations"
      ],
      "metadata": {
        "id": "oGX9tkVUnA2A"
      }
    },
    {
      "cell_type": "code",
      "source": [
        "arr1 = np.arange(12).reshape(3,4)\n",
        "arr2 = np.arange(12,24).reshape(3,4)\n",
        "print(arr1)\n",
        "print(arr2)"
      ],
      "metadata": {
        "colab": {
          "base_uri": "https://localhost:8080/"
        },
        "id": "KT_zdHIml7w6",
        "outputId": "a50f05af-c481-4d1e-e2b6-7dfdfb9d25fc"
      },
      "execution_count": 61,
      "outputs": [
        {
          "output_type": "stream",
          "name": "stdout",
          "text": [
            "[[ 0  1  2  3]\n",
            " [ 4  5  6  7]\n",
            " [ 8  9 10 11]]\n",
            "[[12 13 14 15]\n",
            " [16 17 18 19]\n",
            " [20 21 22 23]]\n"
          ]
        }
      ]
    },
    {
      "cell_type": "code",
      "source": [
        "# scalar operations\n",
        "\n",
        "# arithmetic\n",
        "arr1*2"
      ],
      "metadata": {
        "colab": {
          "base_uri": "https://localhost:8080/"
        },
        "id": "CDN3eJrAq-QB",
        "outputId": "3b4ad681-a4d3-4ad9-e9f3-906fd7f7ddd1"
      },
      "execution_count": 57,
      "outputs": [
        {
          "output_type": "execute_result",
          "data": {
            "text/plain": [
              "array([[ 0,  2,  4,  6],\n",
              "       [ 8, 10, 12, 14],\n",
              "       [16, 18, 20, 22]])"
            ]
          },
          "metadata": {},
          "execution_count": 57
        }
      ]
    },
    {
      "cell_type": "code",
      "source": [
        "# relational\n",
        "arr2\n",
        "arr2 == 15"
      ],
      "metadata": {
        "colab": {
          "base_uri": "https://localhost:8080/"
        },
        "id": "QPbQCon-rSZF",
        "outputId": "f6e0b0c6-070c-4ae5-d9c8-0b85e56d974f"
      },
      "execution_count": 63,
      "outputs": [
        {
          "output_type": "execute_result",
          "data": {
            "text/plain": [
              "array([[False, False, False,  True],\n",
              "       [False, False, False, False],\n",
              "       [False, False, False, False]])"
            ]
          },
          "metadata": {},
          "execution_count": 63
        }
      ]
    },
    {
      "cell_type": "code",
      "source": [
        "# vector operations\n",
        "# arithmetic\n",
        "arr1*arr2"
      ],
      "metadata": {
        "colab": {
          "base_uri": "https://localhost:8080/"
        },
        "id": "RVELXLuFrchU",
        "outputId": "84a9301d-d58a-4037-ab74-1e895c1e051b"
      },
      "execution_count": 64,
      "outputs": [
        {
          "output_type": "execute_result",
          "data": {
            "text/plain": [
              "array([[  0,  13,  28,  45],\n",
              "       [ 64,  85, 108, 133],\n",
              "       [160, 189, 220, 253]])"
            ]
          },
          "metadata": {},
          "execution_count": 64
        }
      ]
    },
    {
      "cell_type": "markdown",
      "source": [
        "# Array Functions"
      ],
      "metadata": {
        "id": "8avjIrj1sH4Y"
      }
    },
    {
      "cell_type": "code",
      "source": [
        "a1 = np.random.random((3,3))\n",
        "print(a1)"
      ],
      "metadata": {
        "colab": {
          "base_uri": "https://localhost:8080/"
        },
        "id": "hkykLYUFsDsC",
        "outputId": "84ca2f71-8cda-4760-a92f-6e4c17db4a4c"
      },
      "execution_count": 76,
      "outputs": [
        {
          "output_type": "stream",
          "name": "stdout",
          "text": [
            "[[0.57982288 0.80199641 0.14405441]\n",
            " [0.30478307 0.18702205 0.01255402]\n",
            " [0.85700118 0.7384124  0.63963631]]\n"
          ]
        }
      ]
    },
    {
      "cell_type": "code",
      "source": [
        "a1 = np.round(a1*100)\n",
        "print(a1)"
      ],
      "metadata": {
        "colab": {
          "base_uri": "https://localhost:8080/"
        },
        "id": "-ViAewFDsdbM",
        "outputId": "ca6c7445-c7dc-49a8-ba04-ded81a54f6a7"
      },
      "execution_count": 77,
      "outputs": [
        {
          "output_type": "stream",
          "name": "stdout",
          "text": [
            "[[58. 80. 14.]\n",
            " [30. 19.  1.]\n",
            " [86. 74. 64.]]\n"
          ]
        }
      ]
    },
    {
      "cell_type": "code",
      "source": [
        "# max/min/sum/prod\n",
        "# 0 -> col and 1 -> row\n",
        "np.prod(a1,axis =0)"
      ],
      "metadata": {
        "colab": {
          "base_uri": "https://localhost:8080/"
        },
        "id": "Jkfwvcz3sk75",
        "outputId": "d1a14e98-4911-46c2-f4c9-5d84390762f5"
      },
      "execution_count": 78,
      "outputs": [
        {
          "output_type": "execute_result",
          "data": {
            "text/plain": [
              "array([149640., 112480.,    896.])"
            ]
          },
          "metadata": {},
          "execution_count": 78
        }
      ]
    },
    {
      "cell_type": "code",
      "source": [
        "# mean/median/std/var\n",
        "np.var(a1,axis = 1)"
      ],
      "metadata": {
        "colab": {
          "base_uri": "https://localhost:8080/"
        },
        "id": "uYZC-jVQuLGh",
        "outputId": "8e909e5a-e2eb-49ba-8c4d-78493741693d"
      },
      "execution_count": 79,
      "outputs": [
        {
          "output_type": "execute_result",
          "data": {
            "text/plain": [
              "array([752.88888889, 142.88888889,  80.88888889])"
            ]
          },
          "metadata": {},
          "execution_count": 79
        }
      ]
    },
    {
      "cell_type": "code",
      "source": [
        "# trigonomoetric functions\n",
        "np.sin(a1)"
      ],
      "metadata": {
        "colab": {
          "base_uri": "https://localhost:8080/"
        },
        "id": "zaqJgSjRuYhH",
        "outputId": "5c759635-4eb7-4d89-df8d-13698860f82d"
      },
      "execution_count": 80,
      "outputs": [
        {
          "output_type": "execute_result",
          "data": {
            "text/plain": [
              "array([[ 0.99287265, -0.99388865,  0.99060736],\n",
              "       [-0.98803162,  0.14987721,  0.84147098],\n",
              "       [-0.92345845, -0.98514626,  0.92002604]])"
            ]
          },
          "metadata": {},
          "execution_count": 80
        }
      ]
    },
    {
      "cell_type": "code",
      "source": [
        "# dot product\n",
        "a2 = np.arange(12).reshape(3,4)\n",
        "a3 = np.arange(12,24).reshape(4,3)\n",
        "\n",
        "np.dot(a2,a3)"
      ],
      "metadata": {
        "colab": {
          "base_uri": "https://localhost:8080/"
        },
        "id": "v929Awv9ubD_",
        "outputId": "4a1da196-8dbc-4a96-a512-00c54a1e21bd"
      },
      "execution_count": 81,
      "outputs": [
        {
          "output_type": "execute_result",
          "data": {
            "text/plain": [
              "array([[114, 120, 126],\n",
              "       [378, 400, 422],\n",
              "       [642, 680, 718]])"
            ]
          },
          "metadata": {},
          "execution_count": 81
        }
      ]
    },
    {
      "cell_type": "code",
      "source": [
        "# log and exponents\n",
        "print(np.exp(a1))\n",
        "print(np.log(a1))"
      ],
      "metadata": {
        "colab": {
          "base_uri": "https://localhost:8080/"
        },
        "id": "BGNuW5YhufBr",
        "outputId": "dd1fc0a3-604f-4707-8771-508ad4ecc280"
      },
      "execution_count": 84,
      "outputs": [
        {
          "output_type": "stream",
          "name": "stdout",
          "text": [
            "[[1.54553894e+25 5.54062238e+34 1.20260428e+06]\n",
            " [1.06864746e+13 1.78482301e+08 2.71828183e+00]\n",
            " [2.23524660e+37 1.37338298e+32 6.23514908e+27]]\n",
            "[[4.06044301 4.38202663 2.63905733]\n",
            " [3.40119738 2.94443898 0.        ]\n",
            " [4.4543473  4.30406509 4.15888308]]\n"
          ]
        }
      ]
    },
    {
      "cell_type": "code",
      "source": [
        "# round/floor/ceil\n",
        "\n",
        "np.ceil(np.random.random((2,3))*100)"
      ],
      "metadata": {
        "colab": {
          "base_uri": "https://localhost:8080/"
        },
        "id": "EKEG64Epui3d",
        "outputId": "c5548179-66e5-45af-843d-f44ffcc767e6"
      },
      "execution_count": 85,
      "outputs": [
        {
          "output_type": "execute_result",
          "data": {
            "text/plain": [
              "array([[50., 10., 63.],\n",
              "       [98., 21., 71.]])"
            ]
          },
          "metadata": {},
          "execution_count": 85
        }
      ]
    },
    {
      "cell_type": "markdown",
      "source": [
        "# Indexing and Slicing"
      ],
      "metadata": {
        "id": "WKIaJacnu3ex"
      }
    },
    {
      "cell_type": "code",
      "source": [
        "a1 = np.arange(10)\n",
        "a2 = np.arange(12).reshape(3,4)\n",
        "a3 = np.arange(8).reshape(2,2,2)\n",
        "\n",
        "a3"
      ],
      "metadata": {
        "colab": {
          "base_uri": "https://localhost:8080/"
        },
        "id": "ogJ1JdC6u0Pv",
        "outputId": "0d28ad4a-86d3-47ff-ea6f-c29958dbf7df"
      },
      "execution_count": 86,
      "outputs": [
        {
          "output_type": "execute_result",
          "data": {
            "text/plain": [
              "array([[[0, 1],\n",
              "        [2, 3]],\n",
              "\n",
              "       [[4, 5],\n",
              "        [6, 7]]])"
            ]
          },
          "metadata": {},
          "execution_count": 86
        }
      ]
    },
    {
      "cell_type": "code",
      "source": [
        "a1"
      ],
      "metadata": {
        "colab": {
          "base_uri": "https://localhost:8080/"
        },
        "id": "0CcTWSQxu8nu",
        "outputId": "eeb18a4c-7584-4b8b-b42b-4db12f3c0b24"
      },
      "execution_count": 87,
      "outputs": [
        {
          "output_type": "execute_result",
          "data": {
            "text/plain": [
              "array([0, 1, 2, 3, 4, 5, 6, 7, 8, 9])"
            ]
          },
          "metadata": {},
          "execution_count": 87
        }
      ]
    },
    {
      "cell_type": "code",
      "source": [
        "a2"
      ],
      "metadata": {
        "colab": {
          "base_uri": "https://localhost:8080/"
        },
        "id": "r8NdLhgXvCID",
        "outputId": "8b2bea2f-ed35-4989-e4fe-d8c9f438c178"
      },
      "execution_count": 88,
      "outputs": [
        {
          "output_type": "execute_result",
          "data": {
            "text/plain": [
              "array([[ 0,  1,  2,  3],\n",
              "       [ 4,  5,  6,  7],\n",
              "       [ 8,  9, 10, 11]])"
            ]
          },
          "metadata": {},
          "execution_count": 88
        }
      ]
    },
    {
      "cell_type": "code",
      "source": [
        "print(a2[1,0])"
      ],
      "metadata": {
        "colab": {
          "base_uri": "https://localhost:8080/"
        },
        "id": "-TIEPsDavEz5",
        "outputId": "fb4b8cf2-ce47-4e08-e004-e696cb97df25"
      },
      "execution_count": 90,
      "outputs": [
        {
          "output_type": "stream",
          "name": "stdout",
          "text": [
            "4\n"
          ]
        }
      ]
    },
    {
      "cell_type": "code",
      "source": [
        "a3"
      ],
      "metadata": {
        "colab": {
          "base_uri": "https://localhost:8080/"
        },
        "id": "NDy11QXQvKEF",
        "outputId": "28095843-efc6-4c7c-9aa4-b8dfaebc3ff8"
      },
      "execution_count": 92,
      "outputs": [
        {
          "output_type": "execute_result",
          "data": {
            "text/plain": [
              "array([[[0, 1],\n",
              "        [2, 3]],\n",
              "\n",
              "       [[4, 5],\n",
              "        [6, 7]]])"
            ]
          },
          "metadata": {},
          "execution_count": 92
        }
      ]
    },
    {
      "cell_type": "code",
      "source": [
        "a3[1,0,1]"
      ],
      "metadata": {
        "colab": {
          "base_uri": "https://localhost:8080/"
        },
        "id": "AakVStw1vUh6",
        "outputId": "f11769a1-ca7b-4882-ad85-f2098b947eba"
      },
      "execution_count": 93,
      "outputs": [
        {
          "output_type": "execute_result",
          "data": {
            "text/plain": [
              "np.int64(5)"
            ]
          },
          "metadata": {},
          "execution_count": 93
        }
      ]
    },
    {
      "cell_type": "code",
      "source": [
        "a1"
      ],
      "metadata": {
        "colab": {
          "base_uri": "https://localhost:8080/"
        },
        "id": "YFSitDUGvl_H",
        "outputId": "189e94db-8925-4e90-f3d0-c21fe961426a"
      },
      "execution_count": 94,
      "outputs": [
        {
          "output_type": "execute_result",
          "data": {
            "text/plain": [
              "array([0, 1, 2, 3, 4, 5, 6, 7, 8, 9])"
            ]
          },
          "metadata": {},
          "execution_count": 94
        }
      ]
    },
    {
      "cell_type": "code",
      "source": [
        "print(a1[2:5])\n",
        "print(a1[2:5:2])"
      ],
      "metadata": {
        "colab": {
          "base_uri": "https://localhost:8080/"
        },
        "id": "o9ey2CLfvpPw",
        "outputId": "c6f58053-8a89-4004-8600-1b1f79bf2da8"
      },
      "execution_count": 98,
      "outputs": [
        {
          "output_type": "stream",
          "name": "stdout",
          "text": [
            "[2 3 4]\n",
            "[2 4]\n"
          ]
        }
      ]
    },
    {
      "cell_type": "code",
      "source": [
        "a2"
      ],
      "metadata": {
        "colab": {
          "base_uri": "https://localhost:8080/"
        },
        "id": "aPbsE0qNvrk9",
        "outputId": "6f800ae5-992d-4f18-e98e-07830b3fef82"
      },
      "execution_count": 99,
      "outputs": [
        {
          "output_type": "execute_result",
          "data": {
            "text/plain": [
              "array([[ 0,  1,  2,  3],\n",
              "       [ 4,  5,  6,  7],\n",
              "       [ 8,  9, 10, 11]])"
            ]
          },
          "metadata": {},
          "execution_count": 99
        }
      ]
    },
    {
      "cell_type": "code",
      "source": [
        "print(a2[0:2,1::2])"
      ],
      "metadata": {
        "colab": {
          "base_uri": "https://localhost:8080/"
        },
        "id": "O7tPmrmBv6tz",
        "outputId": "25066bbb-ccd5-4f7a-80e3-5a5065541eaf"
      },
      "execution_count": 100,
      "outputs": [
        {
          "output_type": "stream",
          "name": "stdout",
          "text": [
            "[[1 3]\n",
            " [5 7]]\n"
          ]
        }
      ]
    },
    {
      "cell_type": "code",
      "source": [
        "a2[::2,1::2]"
      ],
      "metadata": {
        "colab": {
          "base_uri": "https://localhost:8080/"
        },
        "id": "MTfyJ3jswHmm",
        "outputId": "d7b1e073-c55c-47e0-e5d7-99e31712085c"
      },
      "execution_count": 101,
      "outputs": [
        {
          "output_type": "execute_result",
          "data": {
            "text/plain": [
              "array([[ 1,  3],\n",
              "       [ 9, 11]])"
            ]
          },
          "metadata": {},
          "execution_count": 101
        }
      ]
    },
    {
      "cell_type": "code",
      "source": [
        "a2[1,::3]"
      ],
      "metadata": {
        "colab": {
          "base_uri": "https://localhost:8080/"
        },
        "id": "GyGFM6GZwMDo",
        "outputId": "298416a3-7877-4dcb-d21c-ad5300c29037"
      },
      "execution_count": 102,
      "outputs": [
        {
          "output_type": "execute_result",
          "data": {
            "text/plain": [
              "array([4, 7])"
            ]
          },
          "metadata": {},
          "execution_count": 102
        }
      ]
    },
    {
      "cell_type": "code",
      "source": [
        "a2[0,:]"
      ],
      "metadata": {
        "colab": {
          "base_uri": "https://localhost:8080/"
        },
        "id": "xLD6u3QywUvt",
        "outputId": "071779b8-b344-4ee1-ccf3-fb4e44fdb076"
      },
      "execution_count": 103,
      "outputs": [
        {
          "output_type": "execute_result",
          "data": {
            "text/plain": [
              "array([0, 1, 2, 3])"
            ]
          },
          "metadata": {},
          "execution_count": 103
        }
      ]
    },
    {
      "cell_type": "code",
      "source": [
        "a2[:,2]"
      ],
      "metadata": {
        "colab": {
          "base_uri": "https://localhost:8080/"
        },
        "id": "nhbobT6-w1E6",
        "outputId": "1f1883fe-aedf-48ef-8685-bc0414ef89dd"
      },
      "execution_count": 104,
      "outputs": [
        {
          "output_type": "execute_result",
          "data": {
            "text/plain": [
              "array([ 2,  6, 10])"
            ]
          },
          "metadata": {},
          "execution_count": 104
        }
      ]
    },
    {
      "cell_type": "code",
      "source": [
        "a2[1:,1:3]"
      ],
      "metadata": {
        "colab": {
          "base_uri": "https://localhost:8080/"
        },
        "id": "szwL9d1Uw9kl",
        "outputId": "94ceb55e-d8c5-45a2-d891-1f2cb2abafd4"
      },
      "execution_count": 105,
      "outputs": [
        {
          "output_type": "execute_result",
          "data": {
            "text/plain": [
              "array([[ 5,  6],\n",
              "       [ 9, 10]])"
            ]
          },
          "metadata": {},
          "execution_count": 105
        }
      ]
    },
    {
      "cell_type": "code",
      "source": [
        "a3 = np.arange(27).reshape(3,3,3)\n",
        "a3"
      ],
      "metadata": {
        "colab": {
          "base_uri": "https://localhost:8080/"
        },
        "id": "UyrrSu8MxE1d",
        "outputId": "512f33e7-8b32-4211-ea1b-358fd4a5ea4e"
      },
      "execution_count": 106,
      "outputs": [
        {
          "output_type": "execute_result",
          "data": {
            "text/plain": [
              "array([[[ 0,  1,  2],\n",
              "        [ 3,  4,  5],\n",
              "        [ 6,  7,  8]],\n",
              "\n",
              "       [[ 9, 10, 11],\n",
              "        [12, 13, 14],\n",
              "        [15, 16, 17]],\n",
              "\n",
              "       [[18, 19, 20],\n",
              "        [21, 22, 23],\n",
              "        [24, 25, 26]]])"
            ]
          },
          "metadata": {},
          "execution_count": 106
        }
      ]
    },
    {
      "cell_type": "markdown",
      "source": [
        "`array[start_depth:end_depth, start_row:end_row, start_column:end_column]`\n"
      ],
      "metadata": {
        "id": "e2dIzTowytOb"
      }
    },
    {
      "cell_type": "code",
      "source": [
        "a3[::2,0,::2]"
      ],
      "metadata": {
        "colab": {
          "base_uri": "https://localhost:8080/"
        },
        "id": "ZkkvDk59xJia",
        "outputId": "c6e511d8-7753-41c4-ec56-6b1dccb42b88"
      },
      "execution_count": 107,
      "outputs": [
        {
          "output_type": "execute_result",
          "data": {
            "text/plain": [
              "array([[ 0,  2],\n",
              "       [18, 20]])"
            ]
          },
          "metadata": {},
          "execution_count": 107
        }
      ]
    },
    {
      "cell_type": "code",
      "source": [
        "# Create a 3x3x3 3D array (3 layers, each 3x3)\n",
        "import numpy as np\n",
        "arr = np.array([[[1, 2, 3], [4, 5, 6], [7, 8, 9]],\n",
        "                [[10, 11, 12], [13, 14, 15], [16, 17, 18]],\n",
        "                [[19, 20, 21], [22, 23, 24], [25, 26, 27]]])\n",
        "\n",
        "print(arr)\n"
      ],
      "metadata": {
        "colab": {
          "base_uri": "https://localhost:8080/"
        },
        "id": "J1G0aUeTyIgh",
        "outputId": "ef873b58-ce50-40af-850f-8eabf7de2025"
      },
      "execution_count": 3,
      "outputs": [
        {
          "output_type": "stream",
          "name": "stdout",
          "text": [
            "[[[ 1  2  3]\n",
            "  [ 4  5  6]\n",
            "  [ 7  8  9]]\n",
            "\n",
            " [[10 11 12]\n",
            "  [13 14 15]\n",
            "  [16 17 18]]\n",
            "\n",
            " [[19 20 21]\n",
            "  [22 23 24]\n",
            "  [25 26 27]]]\n"
          ]
        }
      ]
    },
    {
      "cell_type": "code",
      "source": [
        "# Slice a portion of the array: First 2 layers, and first 2 rows and columns\n",
        "sliced_arr = arr[:2,:2,:2]\n",
        "print(sliced_arr)"
      ],
      "metadata": {
        "colab": {
          "base_uri": "https://localhost:8080/"
        },
        "id": "r--UrDgEzfpM",
        "outputId": "75582742-0c74-4ad9-9060-bdf5e5fb547d"
      },
      "execution_count": 5,
      "outputs": [
        {
          "output_type": "stream",
          "name": "stdout",
          "text": [
            "[[[ 1  2]\n",
            "  [ 4  5]]\n",
            "\n",
            " [[10 11]\n",
            "  [13 14]]]\n"
          ]
        }
      ]
    },
    {
      "cell_type": "code",
      "source": [
        "# Select the second layer (index 1) of the array\n",
        "layer = arr[1]\n",
        "print(layer)\n"
      ],
      "metadata": {
        "colab": {
          "base_uri": "https://localhost:8080/"
        },
        "id": "W1b41oMc1tZ7",
        "outputId": "16b45eeb-27e5-4408-9105-b1d1f5e9daf3"
      },
      "execution_count": 6,
      "outputs": [
        {
          "output_type": "stream",
          "name": "stdout",
          "text": [
            "[[10 11 12]\n",
            " [13 14 15]\n",
            " [16 17 18]]\n"
          ]
        }
      ]
    },
    {
      "cell_type": "code",
      "source": [
        "# Select the first layer and slice the first 2 rows and columns\n",
        "first_layer_slice = arr[0, :2, :2]\n",
        "print(first_layer_slice)\n"
      ],
      "metadata": {
        "colab": {
          "base_uri": "https://localhost:8080/"
        },
        "id": "YX82ucFY2Sev",
        "outputId": "7f2b8cb1-39e5-4fb4-86a0-2cb171004f7e"
      },
      "execution_count": 7,
      "outputs": [
        {
          "output_type": "stream",
          "name": "stdout",
          "text": [
            "[[1 2]\n",
            " [4 5]]\n"
          ]
        }
      ]
    },
    {
      "cell_type": "code",
      "source": [
        "# Slice every other row and column from the first layer\n",
        "step_slice = arr[0, ::2, ::2]\n",
        "print(step_slice)\n"
      ],
      "metadata": {
        "colab": {
          "base_uri": "https://localhost:8080/"
        },
        "id": "NeOEVi9f2dWJ",
        "outputId": "1805574f-4671-471a-89f9-83707b861e0a"
      },
      "execution_count": 8,
      "outputs": [
        {
          "output_type": "stream",
          "name": "stdout",
          "text": [
            "[[1 3]\n",
            " [7 9]]\n"
          ]
        }
      ]
    },
    {
      "cell_type": "code",
      "source": [
        "# Slice the last 2 layers, rows, and columns of the array\n",
        "neg_slice = arr[-2:, -2:, -2:]\n",
        "print(neg_slice)\n"
      ],
      "metadata": {
        "colab": {
          "base_uri": "https://localhost:8080/"
        },
        "id": "TO61CUmH2gLG",
        "outputId": "96737888-933d-4a16-b49b-7742fb47747b"
      },
      "execution_count": 9,
      "outputs": [
        {
          "output_type": "stream",
          "name": "stdout",
          "text": [
            "[[[14 15]\n",
            "  [17 18]]\n",
            "\n",
            " [[23 24]\n",
            "  [26 27]]]\n"
          ]
        }
      ]
    },
    {
      "cell_type": "code",
      "source": [
        "# Select rows 1 and 2, columns 0 and 1 from layers 0 and 1\n",
        "multi_slice = arr[:2, 1:3, 0:2]\n",
        "print(multi_slice)\n"
      ],
      "metadata": {
        "colab": {
          "base_uri": "https://localhost:8080/"
        },
        "id": "vl5-12m-23aJ",
        "outputId": "57bfec63-e4ba-4a61-cbfa-af483646c5c0"
      },
      "execution_count": 10,
      "outputs": [
        {
          "output_type": "stream",
          "name": "stdout",
          "text": [
            "[[[ 4  5]\n",
            "  [ 7  8]]\n",
            "\n",
            " [[13 14]\n",
            "  [16 17]]]\n"
          ]
        }
      ]
    },
    {
      "cell_type": "code",
      "source": [
        "# Get the element in the second layer, second row, and third column\n",
        "element = arr[1, 1, 2]\n",
        "print(element)  # Output: 15\n"
      ],
      "metadata": {
        "colab": {
          "base_uri": "https://localhost:8080/"
        },
        "id": "GTjb5o0u3KZz",
        "outputId": "0197f4c2-9d74-42e6-b2c2-763553383b47"
      },
      "execution_count": 11,
      "outputs": [
        {
          "output_type": "stream",
          "name": "stdout",
          "text": [
            "15\n"
          ]
        }
      ]
    },
    {
      "cell_type": "markdown",
      "source": [
        "**Summary of Slicing in 3D Arrays**\n",
        "* 3D arrays can be sliced along three axes: depth (axis 0), rows (axis 1), and columns (axis 2).\n",
        "\n",
        "* You can specify ranges for each axis using the slicing format start:stop:step for each axis.\n",
        "\n",
        "* Slicing allows you to extract specific parts of the array, such as a particular layer, row, column, or a combination of these.\n",
        "\n",
        "* You can use negative indices to slice from the end of the array, and the step parameter allows for skipping elements."
      ],
      "metadata": {
        "id": "D-qWgqDj3XvP"
      }
    },
    {
      "cell_type": "markdown",
      "source": [
        "# Iterating over numPy array"
      ],
      "metadata": {
        "id": "ZdDsMkXs303T"
      }
    },
    {
      "cell_type": "markdown",
      "source": [
        "**Iterating over a 1D Array**"
      ],
      "metadata": {
        "id": "haA70kNp4ULi"
      }
    },
    {
      "cell_type": "code",
      "source": [
        "import numpy as np\n",
        "\n",
        "arr = np.array([1, 2, 3, 4, 5])\n",
        "\n",
        "# Using a simple for loop\n",
        "for element in arr:\n",
        "    print(element)\n"
      ],
      "metadata": {
        "colab": {
          "base_uri": "https://localhost:8080/"
        },
        "id": "mE-8JT_S3Taa",
        "outputId": "6829f562-c4e5-46aa-a688-c4f09eb80c43"
      },
      "execution_count": 13,
      "outputs": [
        {
          "output_type": "stream",
          "name": "stdout",
          "text": [
            "1\n",
            "2\n",
            "3\n",
            "4\n",
            "5\n"
          ]
        }
      ]
    },
    {
      "cell_type": "markdown",
      "source": [
        "**Iterating Over a 2D Array**\n",
        "* For 2D arrays (matrices), you have several options. You can iterate over rows, columns, or use nditer to iterate over the entire array in a more general manner."
      ],
      "metadata": {
        "id": "Sqwqa5qD4bYJ"
      }
    },
    {
      "cell_type": "code",
      "source": [
        "arr_2d = np.array([[1, 2, 3], [4, 5, 6], [7, 8, 9]])\n",
        "\n",
        "# Iterating over each row\n",
        "for row in arr_2d:\n",
        "    print(row)\n"
      ],
      "metadata": {
        "colab": {
          "base_uri": "https://localhost:8080/"
        },
        "id": "Zo7lxeCd39tl",
        "outputId": "fff00ef1-d881-459f-ee03-4ba6045713a3"
      },
      "execution_count": 14,
      "outputs": [
        {
          "output_type": "stream",
          "name": "stdout",
          "text": [
            "[1 2 3]\n",
            "[4 5 6]\n",
            "[7 8 9]\n"
          ]
        }
      ]
    },
    {
      "cell_type": "code",
      "source": [
        "arr_2d.shape"
      ],
      "metadata": {
        "colab": {
          "base_uri": "https://localhost:8080/"
        },
        "id": "FeC9m0gy43OE",
        "outputId": "184100fa-fba4-4e54-ab36-044c973e88df"
      },
      "execution_count": 15,
      "outputs": [
        {
          "output_type": "execute_result",
          "data": {
            "text/plain": [
              "(3, 3)"
            ]
          },
          "metadata": {},
          "execution_count": 15
        }
      ]
    },
    {
      "cell_type": "code",
      "source": [
        "# Iterating over individual elements (using indices)\n",
        "for i in range(arr_2d.shape[0]):  # iterate over rows\n",
        "    for j in range(arr_2d.shape[1]):  # iterate over columns\n",
        "        print(arr_2d[i, j])\n"
      ],
      "metadata": {
        "colab": {
          "base_uri": "https://localhost:8080/"
        },
        "id": "I-NFgaI94rgB",
        "outputId": "2b5e2a10-6596-4dff-efda-ee9c8e26ef33"
      },
      "execution_count": 16,
      "outputs": [
        {
          "output_type": "stream",
          "name": "stdout",
          "text": [
            "1\n",
            "2\n",
            "3\n",
            "4\n",
            "5\n",
            "6\n",
            "7\n",
            "8\n",
            "9\n"
          ]
        }
      ]
    },
    {
      "cell_type": "code",
      "source": [
        "# Using nditer to iterate over each element\n",
        "for element in np.nditer(arr_2d):\n",
        "    print(element)\n"
      ],
      "metadata": {
        "colab": {
          "base_uri": "https://localhost:8080/"
        },
        "id": "byBwlHmB5CX4",
        "outputId": "40df71a3-713a-4577-a8d2-8a4ac17c56b0"
      },
      "execution_count": 17,
      "outputs": [
        {
          "output_type": "stream",
          "name": "stdout",
          "text": [
            "1\n",
            "2\n",
            "3\n",
            "4\n",
            "5\n",
            "6\n",
            "7\n",
            "8\n",
            "9\n"
          ]
        }
      ]
    },
    {
      "cell_type": "markdown",
      "source": [
        "This method is particularly useful if you're working with multi-dimensional arrays or need to iterate over arrays with more flexibility.\n",
        "\n"
      ],
      "metadata": {
        "id": "6aKFzYSx5NzM"
      }
    },
    {
      "cell_type": "markdown",
      "source": [
        "**Iterating Over a 3D Array**"
      ],
      "metadata": {
        "id": "sPfXxzRd5SCT"
      }
    },
    {
      "cell_type": "code",
      "source": [
        "arr_3d = np.array([[[1, 2], [3, 4]], [[5, 6], [7, 8]], [[9, 10], [11, 12]]])\n",
        "\n",
        "# Iterating over each 2D slice\n",
        "for slice_2d in arr_3d:\n",
        "    print(slice_2d)\n"
      ],
      "metadata": {
        "colab": {
          "base_uri": "https://localhost:8080/"
        },
        "id": "4hZp7WIN5KSN",
        "outputId": "4d141ed1-8da6-4c5e-c622-e7634f2cda37"
      },
      "execution_count": 18,
      "outputs": [
        {
          "output_type": "stream",
          "name": "stdout",
          "text": [
            "[[1 2]\n",
            " [3 4]]\n",
            "[[5 6]\n",
            " [7 8]]\n",
            "[[ 9 10]\n",
            " [11 12]]\n"
          ]
        }
      ]
    },
    {
      "cell_type": "code",
      "source": [
        "# Iterating over individual elements in a 3D array\n",
        "for i in range(arr_3d.shape[0]):  # iterate over depth\n",
        "    for j in range(arr_3d.shape[1]):  # iterate over rows\n",
        "        for k in range(arr_3d.shape[2]):  # iterate over columns\n",
        "            print(arr_3d[i, j, k])\n"
      ],
      "metadata": {
        "colab": {
          "base_uri": "https://localhost:8080/"
        },
        "id": "f8wj9LvZ5aHu",
        "outputId": "5bf520b3-8bba-4244-c39b-f217c42c8e90"
      },
      "execution_count": 19,
      "outputs": [
        {
          "output_type": "stream",
          "name": "stdout",
          "text": [
            "1\n",
            "2\n",
            "3\n",
            "4\n",
            "5\n",
            "6\n",
            "7\n",
            "8\n",
            "9\n",
            "10\n",
            "11\n",
            "12\n"
          ]
        }
      ]
    },
    {
      "cell_type": "code",
      "source": [
        "# Using nditer for 3D array iteration\n",
        "for element in np.nditer(arr_3d):\n",
        "    print(element)\n"
      ],
      "metadata": {
        "colab": {
          "base_uri": "https://localhost:8080/"
        },
        "id": "JiBoqeFj5em5",
        "outputId": "fa08af85-3763-4578-cb8e-1693889321e8"
      },
      "execution_count": 20,
      "outputs": [
        {
          "output_type": "stream",
          "name": "stdout",
          "text": [
            "1\n",
            "2\n",
            "3\n",
            "4\n",
            "5\n",
            "6\n",
            "7\n",
            "8\n",
            "9\n",
            "10\n",
            "11\n",
            "12\n"
          ]
        }
      ]
    },
    {
      "cell_type": "code",
      "source": [
        "for i in np.nditer(arr_3d):\n",
        "  print(i)"
      ],
      "metadata": {
        "colab": {
          "base_uri": "https://localhost:8080/"
        },
        "id": "DGKeucZg6jJi",
        "outputId": "7462fd88-8e77-4d98-cb1e-ff9db84f6dad"
      },
      "execution_count": 21,
      "outputs": [
        {
          "output_type": "stream",
          "name": "stdout",
          "text": [
            "1\n",
            "2\n",
            "3\n",
            "4\n",
            "5\n",
            "6\n",
            "7\n",
            "8\n",
            "9\n",
            "10\n",
            "11\n",
            "12\n"
          ]
        }
      ]
    },
    {
      "cell_type": "markdown",
      "source": [
        "**Iterating with Conditions**"
      ],
      "metadata": {
        "id": "GEBtWCc17R3L"
      }
    },
    {
      "cell_type": "code",
      "source": [
        "arr_2d = np.array([[1, 2, 3], [4, 5, 6], [7, 8, 9]])\n",
        "\n",
        "# Iterating with conditions to print even elements\n",
        "for row in arr_2d:\n",
        "    for element in row:\n",
        "        if element % 2 == 0:\n",
        "            print(element)\n"
      ],
      "metadata": {
        "colab": {
          "base_uri": "https://localhost:8080/"
        },
        "id": "4ZnRRIW_68R-",
        "outputId": "79cd7a3a-ba3f-4d28-e961-8880f03ccd43"
      },
      "execution_count": 22,
      "outputs": [
        {
          "output_type": "stream",
          "name": "stdout",
          "text": [
            "2\n",
            "4\n",
            "6\n",
            "8\n"
          ]
        }
      ]
    },
    {
      "cell_type": "markdown",
      "source": [
        "**Iterating with enumerate**\n"
      ],
      "metadata": {
        "id": "uGZEP_bx7XPj"
      }
    },
    {
      "cell_type": "code",
      "source": [
        "arr_2d = np.array([[1, 2, 3], [4, 5, 6], [7, 8, 9]])\n",
        "\n",
        "# Iterating with index using enumerate\n",
        "for i, row in enumerate(arr_2d):\n",
        "    print(f\"Row {i}: {row}\")\n",
        "\n"
      ],
      "metadata": {
        "colab": {
          "base_uri": "https://localhost:8080/"
        },
        "id": "ra5z0yMv7Jpy",
        "outputId": "f800b63c-6678-4603-ca6b-d29893ceea18"
      },
      "execution_count": 23,
      "outputs": [
        {
          "output_type": "stream",
          "name": "stdout",
          "text": [
            "Row 0: [1 2 3]\n",
            "Row 1: [4 5 6]\n",
            "Row 2: [7 8 9]\n"
          ]
        }
      ]
    },
    {
      "cell_type": "markdown",
      "source": [
        "Here, i gives you the index of the row, and row gives you the actual row data."
      ],
      "metadata": {
        "id": "T5ygGtm97sNp"
      }
    },
    {
      "cell_type": "code",
      "source": [],
      "metadata": {
        "colab": {
          "base_uri": "https://localhost:8080/"
        },
        "id": "JM6q_PhX7lrZ",
        "outputId": "c1b5f242-d948-4aa1-f000-53a71264aeee"
      },
      "execution_count": 25,
      "outputs": [
        {
          "output_type": "execute_result",
          "data": {
            "text/plain": [
              "array([0.70380743, 0.98789799, 0.02046821, 0.09030456, 0.49050495,\n",
              "       0.79980912, 0.62641268, 0.65001949, 0.60026037, 0.08752015])"
            ]
          },
          "metadata": {},
          "execution_count": 25
        }
      ]
    },
    {
      "cell_type": "code",
      "source": [
        "# Transpose\n",
        "print(arr_2d)\n",
        "arr_trans = np.transpose(arr_2d)\n",
        "print(arr_trans)\n"
      ],
      "metadata": {
        "colab": {
          "base_uri": "https://localhost:8080/"
        },
        "id": "eratzYYw-LOC",
        "outputId": "68082269-77dd-408b-ef9a-8e25be9843f7"
      },
      "execution_count": 27,
      "outputs": [
        {
          "output_type": "stream",
          "name": "stdout",
          "text": [
            "[[1 2 3]\n",
            " [4 5 6]\n",
            " [7 8 9]]\n",
            "[[1 4 7]\n",
            " [2 5 8]\n",
            " [3 6 9]]\n"
          ]
        }
      ]
    },
    {
      "cell_type": "code",
      "source": [
        "print(arr_2d.T)"
      ],
      "metadata": {
        "colab": {
          "base_uri": "https://localhost:8080/"
        },
        "id": "yHWOWB-u_r62",
        "outputId": "37826c3c-3a46-4e33-bad3-c790286f209a"
      },
      "execution_count": 28,
      "outputs": [
        {
          "output_type": "stream",
          "name": "stdout",
          "text": [
            "[[1 4 7]\n",
            " [2 5 8]\n",
            " [3 6 9]]\n"
          ]
        }
      ]
    },
    {
      "cell_type": "markdown",
      "source": [
        "**Summary of `ravel()` :**\n",
        "* Purpose: Flattens a multi-dimensional array into a 1D array.\n",
        "\n",
        "* Returns: A 1D array, which could be a view or a copy of the original array depending on the memory layout.\n",
        "\n",
        "* order: Controls the order in which elements are flattened: 'C' (row-major), 'F' (column-major), 'A' (depends on memory layout), and 'K' (appears in memory).\n",
        "\n",
        "* Difference from flatten(): ravel() returns a view of the original array if possible, while flatten() always returns a copy, making ravel() more memory efficient in some cases."
      ],
      "metadata": {
        "id": "y4_7JZyFAloY"
      }
    },
    {
      "cell_type": "code",
      "source": [
        "import numpy as np\n",
        "\n",
        "arr = np.array([[1, 2, 3], [4, 5, 6], [7, 8, 9]])\n",
        "\n",
        "# Using ravel to flatten the array\n",
        "flattened_arr = np.ravel(arr)\n",
        "\n",
        "print(flattened_arr)\n"
      ],
      "metadata": {
        "colab": {
          "base_uri": "https://localhost:8080/"
        },
        "id": "mAVJFeLt__yL",
        "outputId": "cec1b0d8-d1a0-464b-876b-ffd15607d2a1"
      },
      "execution_count": 29,
      "outputs": [
        {
          "output_type": "stream",
          "name": "stdout",
          "text": [
            "[1 2 3 4 5 6 7 8 9]\n"
          ]
        }
      ]
    },
    {
      "cell_type": "markdown",
      "source": [
        "If the array is contiguous in memory (e.g., it's created from a basic np.array()), ravel() will return a view (no copy). However, if the array is not contiguous, ravel() will return a copy.\n",
        "\n",
        "If you modify flattened_arr, it will also modify arr since they share the same data."
      ],
      "metadata": {
        "id": "bZ-bmzMtBNJM"
      }
    },
    {
      "cell_type": "code",
      "source": [
        "arr = np.array([[1, 2, 3], [4, 5, 6]])\n",
        "\n",
        "flattened_arr = np.ravel(arr)\n",
        "\n",
        "# Check if it's a view or copy\n",
        "print(flattened_arr.base is arr)  # Output: True (indicating it's a view)\n"
      ],
      "metadata": {
        "colab": {
          "base_uri": "https://localhost:8080/"
        },
        "id": "y-rlfj52A_fQ",
        "outputId": "14221934-4c41-4ae4-8e40-556ebdfce604"
      },
      "execution_count": 30,
      "outputs": [
        {
          "output_type": "stream",
          "name": "stdout",
          "text": [
            "True\n"
          ]
        }
      ]
    },
    {
      "cell_type": "code",
      "source": [
        "arr = np.array([[1, 2, 3], [4, 5, 6]])\n",
        "arr_slice = arr[:, 1:]  # This creates a non-contiguous slice\n",
        "\n",
        "flattened_arr = np.ravel(arr_slice)\n",
        "\n",
        "# Check if it's a view or copy\n",
        "print(flattened_arr.base is arr_slice)  # Output: False (indicating it's a copy)\n"
      ],
      "metadata": {
        "colab": {
          "base_uri": "https://localhost:8080/"
        },
        "id": "r9OCw66EBPJ4",
        "outputId": "0de9ff5b-0074-4e80-fa80-efc04d87d34e"
      },
      "execution_count": 31,
      "outputs": [
        {
          "output_type": "stream",
          "name": "stdout",
          "text": [
            "False\n"
          ]
        }
      ]
    },
    {
      "cell_type": "markdown",
      "source": [
        "# Stacking"
      ],
      "metadata": {
        "id": "7G0iV8ByCEr6"
      }
    },
    {
      "cell_type": "code",
      "source": [
        "# horizontal stacking\n",
        "a4 = np.arange(12).reshape(3,4)\n",
        "a5 = np.arange(12,24).reshape(3,4)\n",
        "a5"
      ],
      "metadata": {
        "colab": {
          "base_uri": "https://localhost:8080/"
        },
        "id": "Jc6VjF3PBrD1",
        "outputId": "6bed19b8-201f-437a-ed5c-48f28ec699b5"
      },
      "execution_count": 32,
      "outputs": [
        {
          "output_type": "execute_result",
          "data": {
            "text/plain": [
              "array([[12, 13, 14, 15],\n",
              "       [16, 17, 18, 19],\n",
              "       [20, 21, 22, 23]])"
            ]
          },
          "metadata": {},
          "execution_count": 32
        }
      ]
    },
    {
      "cell_type": "code",
      "source": [
        "# horizontal stacking\n",
        "np.hstack((a4,a5))"
      ],
      "metadata": {
        "colab": {
          "base_uri": "https://localhost:8080/"
        },
        "id": "0HCGhiqdCKtm",
        "outputId": "a4f10ebf-1b33-49a1-f446-b400a96b2931"
      },
      "execution_count": 36,
      "outputs": [
        {
          "output_type": "execute_result",
          "data": {
            "text/plain": [
              "array([[ 0,  1,  2,  3, 12, 13, 14, 15],\n",
              "       [ 4,  5,  6,  7, 16, 17, 18, 19],\n",
              "       [ 8,  9, 10, 11, 20, 21, 22, 23]])"
            ]
          },
          "metadata": {},
          "execution_count": 36
        }
      ]
    },
    {
      "cell_type": "code",
      "source": [
        "# Vertical stacking\n",
        "np.vstack((a4,a5))"
      ],
      "metadata": {
        "colab": {
          "base_uri": "https://localhost:8080/"
        },
        "id": "XsGoj51CCQxB",
        "outputId": "9b46f031-2ea1-44f5-bf2b-3010be4d862e"
      },
      "execution_count": 35,
      "outputs": [
        {
          "output_type": "execute_result",
          "data": {
            "text/plain": [
              "array([[ 0,  1,  2,  3],\n",
              "       [ 4,  5,  6,  7],\n",
              "       [ 8,  9, 10, 11],\n",
              "       [12, 13, 14, 15],\n",
              "       [16, 17, 18, 19],\n",
              "       [20, 21, 22, 23]])"
            ]
          },
          "metadata": {},
          "execution_count": 35
        }
      ]
    },
    {
      "cell_type": "markdown",
      "source": [
        "# Splitting"
      ],
      "metadata": {
        "id": "4sXEi-oqCb-x"
      }
    },
    {
      "cell_type": "code",
      "source": [
        "a4"
      ],
      "metadata": {
        "colab": {
          "base_uri": "https://localhost:8080/"
        },
        "id": "ctY4raUUCUUx",
        "outputId": "e6994083-d06d-4a6e-f668-0d90eab99c4c"
      },
      "execution_count": 38,
      "outputs": [
        {
          "output_type": "execute_result",
          "data": {
            "text/plain": [
              "array([[ 0,  1,  2,  3],\n",
              "       [ 4,  5,  6,  7],\n",
              "       [ 8,  9, 10, 11]])"
            ]
          },
          "metadata": {},
          "execution_count": 38
        }
      ]
    },
    {
      "cell_type": "code",
      "source": [
        "a5"
      ],
      "metadata": {
        "colab": {
          "base_uri": "https://localhost:8080/"
        },
        "id": "-50hC1IhCfWx",
        "outputId": "74ffc6b9-5bb1-449d-ade1-02ae4a9ddb4a"
      },
      "execution_count": 39,
      "outputs": [
        {
          "output_type": "execute_result",
          "data": {
            "text/plain": [
              "array([[12, 13, 14, 15],\n",
              "       [16, 17, 18, 19],\n",
              "       [20, 21, 22, 23]])"
            ]
          },
          "metadata": {},
          "execution_count": 39
        }
      ]
    },
    {
      "cell_type": "code",
      "source": [
        "np.hsplit(a4,2)"
      ],
      "metadata": {
        "colab": {
          "base_uri": "https://localhost:8080/"
        },
        "id": "d714UDmCCjMf",
        "outputId": "bbe8c369-7d45-4568-bc88-d3731457a738"
      },
      "execution_count": 40,
      "outputs": [
        {
          "output_type": "execute_result",
          "data": {
            "text/plain": [
              "[array([[0, 1],\n",
              "        [4, 5],\n",
              "        [8, 9]]),\n",
              " array([[ 2,  3],\n",
              "        [ 6,  7],\n",
              "        [10, 11]])]"
            ]
          },
          "metadata": {},
          "execution_count": 40
        }
      ]
    },
    {
      "cell_type": "code",
      "source": [
        "np.hsplit(a4,4)"
      ],
      "metadata": {
        "colab": {
          "base_uri": "https://localhost:8080/"
        },
        "id": "JFdqLZdJCq46",
        "outputId": "b3d7b20e-f1aa-4707-e98b-fef15c0ccacf"
      },
      "execution_count": 41,
      "outputs": [
        {
          "output_type": "execute_result",
          "data": {
            "text/plain": [
              "[array([[0],\n",
              "        [4],\n",
              "        [8]]),\n",
              " array([[1],\n",
              "        [5],\n",
              "        [9]]),\n",
              " array([[ 2],\n",
              "        [ 6],\n",
              "        [10]]),\n",
              " array([[ 3],\n",
              "        [ 7],\n",
              "        [11]])]"
            ]
          },
          "metadata": {},
          "execution_count": 41
        }
      ]
    },
    {
      "cell_type": "code",
      "source": [
        "np.hsplit(a4,5)"
      ],
      "metadata": {
        "colab": {
          "base_uri": "https://localhost:8080/",
          "height": 287
        },
        "id": "kNncoRaRCvWn",
        "outputId": "7b727388-78c9-4673-c4d8-de4fa28f655b"
      },
      "execution_count": 42,
      "outputs": [
        {
          "output_type": "error",
          "ename": "ValueError",
          "evalue": "array split does not result in an equal division",
          "traceback": [
            "\u001b[0;31m---------------------------------------------------------------------------\u001b[0m",
            "\u001b[0;31mValueError\u001b[0m                                Traceback (most recent call last)",
            "\u001b[0;32m<ipython-input-42-59485ca7f23c>\u001b[0m in \u001b[0;36m<cell line: 0>\u001b[0;34m()\u001b[0m\n\u001b[0;32m----> 1\u001b[0;31m \u001b[0mnp\u001b[0m\u001b[0;34m.\u001b[0m\u001b[0mhsplit\u001b[0m\u001b[0;34m(\u001b[0m\u001b[0ma4\u001b[0m\u001b[0;34m,\u001b[0m\u001b[0;36m5\u001b[0m\u001b[0;34m)\u001b[0m\u001b[0;34m\u001b[0m\u001b[0;34m\u001b[0m\u001b[0m\n\u001b[0m",
            "\u001b[0;32m/usr/local/lib/python3.11/dist-packages/numpy/lib/_shape_base_impl.py\u001b[0m in \u001b[0;36mhsplit\u001b[0;34m(ary, indices_or_sections)\u001b[0m\n\u001b[1;32m    946\u001b[0m         \u001b[0;32mraise\u001b[0m \u001b[0mValueError\u001b[0m\u001b[0;34m(\u001b[0m\u001b[0;34m'hsplit only works on arrays of 1 or more dimensions'\u001b[0m\u001b[0;34m)\u001b[0m\u001b[0;34m\u001b[0m\u001b[0;34m\u001b[0m\u001b[0m\n\u001b[1;32m    947\u001b[0m     \u001b[0;32mif\u001b[0m \u001b[0mary\u001b[0m\u001b[0;34m.\u001b[0m\u001b[0mndim\u001b[0m \u001b[0;34m>\u001b[0m \u001b[0;36m1\u001b[0m\u001b[0;34m:\u001b[0m\u001b[0;34m\u001b[0m\u001b[0;34m\u001b[0m\u001b[0m\n\u001b[0;32m--> 948\u001b[0;31m         \u001b[0;32mreturn\u001b[0m \u001b[0msplit\u001b[0m\u001b[0;34m(\u001b[0m\u001b[0mary\u001b[0m\u001b[0;34m,\u001b[0m \u001b[0mindices_or_sections\u001b[0m\u001b[0;34m,\u001b[0m \u001b[0;36m1\u001b[0m\u001b[0;34m)\u001b[0m\u001b[0;34m\u001b[0m\u001b[0;34m\u001b[0m\u001b[0m\n\u001b[0m\u001b[1;32m    949\u001b[0m     \u001b[0;32melse\u001b[0m\u001b[0;34m:\u001b[0m\u001b[0;34m\u001b[0m\u001b[0;34m\u001b[0m\u001b[0m\n\u001b[1;32m    950\u001b[0m         \u001b[0;32mreturn\u001b[0m \u001b[0msplit\u001b[0m\u001b[0;34m(\u001b[0m\u001b[0mary\u001b[0m\u001b[0;34m,\u001b[0m \u001b[0mindices_or_sections\u001b[0m\u001b[0;34m,\u001b[0m \u001b[0;36m0\u001b[0m\u001b[0;34m)\u001b[0m\u001b[0;34m\u001b[0m\u001b[0;34m\u001b[0m\u001b[0m\n",
            "\u001b[0;32m/usr/local/lib/python3.11/dist-packages/numpy/lib/_shape_base_impl.py\u001b[0m in \u001b[0;36msplit\u001b[0;34m(ary, indices_or_sections, axis)\u001b[0m\n\u001b[1;32m    872\u001b[0m         \u001b[0mN\u001b[0m \u001b[0;34m=\u001b[0m \u001b[0mary\u001b[0m\u001b[0;34m.\u001b[0m\u001b[0mshape\u001b[0m\u001b[0;34m[\u001b[0m\u001b[0maxis\u001b[0m\u001b[0;34m]\u001b[0m\u001b[0;34m\u001b[0m\u001b[0;34m\u001b[0m\u001b[0m\n\u001b[1;32m    873\u001b[0m         \u001b[0;32mif\u001b[0m \u001b[0mN\u001b[0m \u001b[0;34m%\u001b[0m \u001b[0msections\u001b[0m\u001b[0;34m:\u001b[0m\u001b[0;34m\u001b[0m\u001b[0;34m\u001b[0m\u001b[0m\n\u001b[0;32m--> 874\u001b[0;31m             raise ValueError(\n\u001b[0m\u001b[1;32m    875\u001b[0m                 'array split does not result in an equal division') from None\n\u001b[1;32m    876\u001b[0m     \u001b[0;32mreturn\u001b[0m \u001b[0marray_split\u001b[0m\u001b[0;34m(\u001b[0m\u001b[0mary\u001b[0m\u001b[0;34m,\u001b[0m \u001b[0mindices_or_sections\u001b[0m\u001b[0;34m,\u001b[0m \u001b[0maxis\u001b[0m\u001b[0;34m)\u001b[0m\u001b[0;34m\u001b[0m\u001b[0;34m\u001b[0m\u001b[0m\n",
            "\u001b[0;31mValueError\u001b[0m: array split does not result in an equal division"
          ]
        }
      ]
    },
    {
      "cell_type": "code",
      "source": [
        "a5\n"
      ],
      "metadata": {
        "colab": {
          "base_uri": "https://localhost:8080/"
        },
        "id": "X8CXAK-BCx98",
        "outputId": "14ea975d-5b48-4cc9-a415-f7f3a01cfa8d"
      },
      "execution_count": 43,
      "outputs": [
        {
          "output_type": "execute_result",
          "data": {
            "text/plain": [
              "array([[12, 13, 14, 15],\n",
              "       [16, 17, 18, 19],\n",
              "       [20, 21, 22, 23]])"
            ]
          },
          "metadata": {},
          "execution_count": 43
        }
      ]
    },
    {
      "cell_type": "code",
      "source": [
        "np.vsplit(a5,3)"
      ],
      "metadata": {
        "colab": {
          "base_uri": "https://localhost:8080/"
        },
        "id": "N8zt1CXUC8MG",
        "outputId": "6142eed8-8479-4fe1-c75b-6b970107cfb5"
      },
      "execution_count": 44,
      "outputs": [
        {
          "output_type": "execute_result",
          "data": {
            "text/plain": [
              "[array([[12, 13, 14, 15]]),\n",
              " array([[16, 17, 18, 19]]),\n",
              " array([[20, 21, 22, 23]])]"
            ]
          },
          "metadata": {},
          "execution_count": 44
        }
      ]
    },
    {
      "cell_type": "code",
      "source": [
        "np.vsplit(a5,5)"
      ],
      "metadata": {
        "colab": {
          "base_uri": "https://localhost:8080/",
          "height": 287
        },
        "id": "jxgcWBmgC__o",
        "outputId": "0547ad2d-1fa0-4095-e602-3313834a2fe1"
      },
      "execution_count": 45,
      "outputs": [
        {
          "output_type": "error",
          "ename": "ValueError",
          "evalue": "array split does not result in an equal division",
          "traceback": [
            "\u001b[0;31m---------------------------------------------------------------------------\u001b[0m",
            "\u001b[0;31mValueError\u001b[0m                                Traceback (most recent call last)",
            "\u001b[0;32m<ipython-input-45-28a43f8e9a50>\u001b[0m in \u001b[0;36m<cell line: 0>\u001b[0;34m()\u001b[0m\n\u001b[0;32m----> 1\u001b[0;31m \u001b[0mnp\u001b[0m\u001b[0;34m.\u001b[0m\u001b[0mvsplit\u001b[0m\u001b[0;34m(\u001b[0m\u001b[0ma5\u001b[0m\u001b[0;34m,\u001b[0m\u001b[0;36m5\u001b[0m\u001b[0;34m)\u001b[0m\u001b[0;34m\u001b[0m\u001b[0;34m\u001b[0m\u001b[0m\n\u001b[0m",
            "\u001b[0;32m/usr/local/lib/python3.11/dist-packages/numpy/lib/_shape_base_impl.py\u001b[0m in \u001b[0;36mvsplit\u001b[0;34m(ary, indices_or_sections)\u001b[0m\n\u001b[1;32m   1001\u001b[0m     \u001b[0;32mif\u001b[0m \u001b[0m_nx\u001b[0m\u001b[0;34m.\u001b[0m\u001b[0mndim\u001b[0m\u001b[0;34m(\u001b[0m\u001b[0mary\u001b[0m\u001b[0;34m)\u001b[0m \u001b[0;34m<\u001b[0m \u001b[0;36m2\u001b[0m\u001b[0;34m:\u001b[0m\u001b[0;34m\u001b[0m\u001b[0;34m\u001b[0m\u001b[0m\n\u001b[1;32m   1002\u001b[0m         \u001b[0;32mraise\u001b[0m \u001b[0mValueError\u001b[0m\u001b[0;34m(\u001b[0m\u001b[0;34m'vsplit only works on arrays of 2 or more dimensions'\u001b[0m\u001b[0;34m)\u001b[0m\u001b[0;34m\u001b[0m\u001b[0;34m\u001b[0m\u001b[0m\n\u001b[0;32m-> 1003\u001b[0;31m     \u001b[0;32mreturn\u001b[0m \u001b[0msplit\u001b[0m\u001b[0;34m(\u001b[0m\u001b[0mary\u001b[0m\u001b[0;34m,\u001b[0m \u001b[0mindices_or_sections\u001b[0m\u001b[0;34m,\u001b[0m \u001b[0;36m0\u001b[0m\u001b[0;34m)\u001b[0m\u001b[0;34m\u001b[0m\u001b[0;34m\u001b[0m\u001b[0m\n\u001b[0m\u001b[1;32m   1004\u001b[0m \u001b[0;34m\u001b[0m\u001b[0m\n\u001b[1;32m   1005\u001b[0m \u001b[0;34m\u001b[0m\u001b[0m\n",
            "\u001b[0;32m/usr/local/lib/python3.11/dist-packages/numpy/lib/_shape_base_impl.py\u001b[0m in \u001b[0;36msplit\u001b[0;34m(ary, indices_or_sections, axis)\u001b[0m\n\u001b[1;32m    872\u001b[0m         \u001b[0mN\u001b[0m \u001b[0;34m=\u001b[0m \u001b[0mary\u001b[0m\u001b[0;34m.\u001b[0m\u001b[0mshape\u001b[0m\u001b[0;34m[\u001b[0m\u001b[0maxis\u001b[0m\u001b[0;34m]\u001b[0m\u001b[0;34m\u001b[0m\u001b[0;34m\u001b[0m\u001b[0m\n\u001b[1;32m    873\u001b[0m         \u001b[0;32mif\u001b[0m \u001b[0mN\u001b[0m \u001b[0;34m%\u001b[0m \u001b[0msections\u001b[0m\u001b[0;34m:\u001b[0m\u001b[0;34m\u001b[0m\u001b[0;34m\u001b[0m\u001b[0m\n\u001b[0;32m--> 874\u001b[0;31m             raise ValueError(\n\u001b[0m\u001b[1;32m    875\u001b[0m                 'array split does not result in an equal division') from None\n\u001b[1;32m    876\u001b[0m     \u001b[0;32mreturn\u001b[0m \u001b[0marray_split\u001b[0m\u001b[0;34m(\u001b[0m\u001b[0mary\u001b[0m\u001b[0;34m,\u001b[0m \u001b[0mindices_or_sections\u001b[0m\u001b[0;34m,\u001b[0m \u001b[0maxis\u001b[0m\u001b[0;34m)\u001b[0m\u001b[0;34m\u001b[0m\u001b[0;34m\u001b[0m\u001b[0m\n",
            "\u001b[0;31mValueError\u001b[0m: array split does not result in an equal division"
          ]
        }
      ]
    },
    {
      "cell_type": "code",
      "source": [
        "np.vsplit(a5,2)"
      ],
      "metadata": {
        "colab": {
          "base_uri": "https://localhost:8080/",
          "height": 287
        },
        "id": "zmF3KJPTDClx",
        "outputId": "b01877a9-e1b2-456f-fc9d-1c0225c32b37"
      },
      "execution_count": 46,
      "outputs": [
        {
          "output_type": "error",
          "ename": "ValueError",
          "evalue": "array split does not result in an equal division",
          "traceback": [
            "\u001b[0;31m---------------------------------------------------------------------------\u001b[0m",
            "\u001b[0;31mValueError\u001b[0m                                Traceback (most recent call last)",
            "\u001b[0;32m<ipython-input-46-5b73f701499e>\u001b[0m in \u001b[0;36m<cell line: 0>\u001b[0;34m()\u001b[0m\n\u001b[0;32m----> 1\u001b[0;31m \u001b[0mnp\u001b[0m\u001b[0;34m.\u001b[0m\u001b[0mvsplit\u001b[0m\u001b[0;34m(\u001b[0m\u001b[0ma5\u001b[0m\u001b[0;34m,\u001b[0m\u001b[0;36m2\u001b[0m\u001b[0;34m)\u001b[0m\u001b[0;34m\u001b[0m\u001b[0;34m\u001b[0m\u001b[0m\n\u001b[0m",
            "\u001b[0;32m/usr/local/lib/python3.11/dist-packages/numpy/lib/_shape_base_impl.py\u001b[0m in \u001b[0;36mvsplit\u001b[0;34m(ary, indices_or_sections)\u001b[0m\n\u001b[1;32m   1001\u001b[0m     \u001b[0;32mif\u001b[0m \u001b[0m_nx\u001b[0m\u001b[0;34m.\u001b[0m\u001b[0mndim\u001b[0m\u001b[0;34m(\u001b[0m\u001b[0mary\u001b[0m\u001b[0;34m)\u001b[0m \u001b[0;34m<\u001b[0m \u001b[0;36m2\u001b[0m\u001b[0;34m:\u001b[0m\u001b[0;34m\u001b[0m\u001b[0;34m\u001b[0m\u001b[0m\n\u001b[1;32m   1002\u001b[0m         \u001b[0;32mraise\u001b[0m \u001b[0mValueError\u001b[0m\u001b[0;34m(\u001b[0m\u001b[0;34m'vsplit only works on arrays of 2 or more dimensions'\u001b[0m\u001b[0;34m)\u001b[0m\u001b[0;34m\u001b[0m\u001b[0;34m\u001b[0m\u001b[0m\n\u001b[0;32m-> 1003\u001b[0;31m     \u001b[0;32mreturn\u001b[0m \u001b[0msplit\u001b[0m\u001b[0;34m(\u001b[0m\u001b[0mary\u001b[0m\u001b[0;34m,\u001b[0m \u001b[0mindices_or_sections\u001b[0m\u001b[0;34m,\u001b[0m \u001b[0;36m0\u001b[0m\u001b[0;34m)\u001b[0m\u001b[0;34m\u001b[0m\u001b[0;34m\u001b[0m\u001b[0m\n\u001b[0m\u001b[1;32m   1004\u001b[0m \u001b[0;34m\u001b[0m\u001b[0m\n\u001b[1;32m   1005\u001b[0m \u001b[0;34m\u001b[0m\u001b[0m\n",
            "\u001b[0;32m/usr/local/lib/python3.11/dist-packages/numpy/lib/_shape_base_impl.py\u001b[0m in \u001b[0;36msplit\u001b[0;34m(ary, indices_or_sections, axis)\u001b[0m\n\u001b[1;32m    872\u001b[0m         \u001b[0mN\u001b[0m \u001b[0;34m=\u001b[0m \u001b[0mary\u001b[0m\u001b[0;34m.\u001b[0m\u001b[0mshape\u001b[0m\u001b[0;34m[\u001b[0m\u001b[0maxis\u001b[0m\u001b[0;34m]\u001b[0m\u001b[0;34m\u001b[0m\u001b[0;34m\u001b[0m\u001b[0m\n\u001b[1;32m    873\u001b[0m         \u001b[0;32mif\u001b[0m \u001b[0mN\u001b[0m \u001b[0;34m%\u001b[0m \u001b[0msections\u001b[0m\u001b[0;34m:\u001b[0m\u001b[0;34m\u001b[0m\u001b[0;34m\u001b[0m\u001b[0m\n\u001b[0;32m--> 874\u001b[0;31m             raise ValueError(\n\u001b[0m\u001b[1;32m    875\u001b[0m                 'array split does not result in an equal division') from None\n\u001b[1;32m    876\u001b[0m     \u001b[0;32mreturn\u001b[0m \u001b[0marray_split\u001b[0m\u001b[0;34m(\u001b[0m\u001b[0mary\u001b[0m\u001b[0;34m,\u001b[0m \u001b[0mindices_or_sections\u001b[0m\u001b[0;34m,\u001b[0m \u001b[0maxis\u001b[0m\u001b[0;34m)\u001b[0m\u001b[0;34m\u001b[0m\u001b[0;34m\u001b[0m\u001b[0m\n",
            "\u001b[0;31mValueError\u001b[0m: array split does not result in an equal division"
          ]
        }
      ]
    },
    {
      "cell_type": "markdown",
      "source": [
        "# Numpy array vs Python lists"
      ],
      "metadata": {
        "id": "vwYNnvP02G6V"
      }
    },
    {
      "cell_type": "code",
      "source": [
        "# speed\n",
        "# list\n",
        "a = [i for i in range(10000000)]\n",
        "b = [i for i in range(10000000,20000000)]\n",
        "\n",
        "c = []\n",
        "import time as t\n",
        "\n",
        "start = t.time()\n",
        "for i in range(len(a)):\n",
        "  c.append(a[i] + b[i])\n",
        "print(t.time()-start)"
      ],
      "metadata": {
        "colab": {
          "base_uri": "https://localhost:8080/"
        },
        "id": "8KVVwC6iDKbn",
        "outputId": "4bb2888e-81f8-4e2a-bb9e-fe0e9d138b21"
      },
      "execution_count": 1,
      "outputs": [
        {
          "output_type": "stream",
          "name": "stdout",
          "text": [
            "1.7373394966125488\n"
          ]
        }
      ]
    },
    {
      "cell_type": "code",
      "source": [
        "# numpy\n",
        "import numpy as np\n",
        "a = np.arange(10000000)\n",
        "b = np.arange(10000000,20000000)\n",
        "\n",
        "start = t.time()\n",
        "c = a + b\n",
        "print(t.time()-start)"
      ],
      "metadata": {
        "colab": {
          "base_uri": "https://localhost:8080/"
        },
        "id": "3WDNSesL2R8k",
        "outputId": "906b8ffa-0088-4e4b-9559-9e27b2f98321"
      },
      "execution_count": 3,
      "outputs": [
        {
          "output_type": "stream",
          "name": "stdout",
          "text": [
            "0.033460140228271484\n"
          ]
        }
      ]
    },
    {
      "cell_type": "code",
      "source": [
        "1.73/0.03"
      ],
      "metadata": {
        "colab": {
          "base_uri": "https://localhost:8080/"
        },
        "id": "yzARSl4v2VuS",
        "outputId": "6766e6c9-9b6a-4dff-c504-b31d3fc666a8"
      },
      "execution_count": 4,
      "outputs": [
        {
          "output_type": "execute_result",
          "data": {
            "text/plain": [
              "57.66666666666667"
            ]
          },
          "metadata": {},
          "execution_count": 4
        }
      ]
    },
    {
      "cell_type": "markdown",
      "source": [
        "The difference between linspace and random (often associated with numpy in Python) lies in how they generate numbers."
      ],
      "metadata": {
        "id": "WZyxCBJx3Llh"
      }
    },
    {
      "cell_type": "markdown",
      "source": [
        "# linspace"
      ],
      "metadata": {
        "id": "t8nhrkry3OLB"
      }
    },
    {
      "cell_type": "markdown",
      "source": [
        "`Purpose`: Used to generate evenly spaced numbers over a specified range.\n",
        "\n",
        "`How it works`: Given a start value, an end value, and the number of points to generate, `linspace` will return a set of numbers that are uniformly spaced between the start and end values."
      ],
      "metadata": {
        "id": "4xGpdm5J3UCq"
      }
    },
    {
      "cell_type": "code",
      "source": [
        "import numpy as np\n",
        "np.linspace(0, 10, 5)\n",
        "# Output: array([ 0. ,  2.5,  5. ,  7.5, 10. ])"
      ],
      "metadata": {
        "colab": {
          "base_uri": "https://localhost:8080/"
        },
        "id": "N6ZFAjQg3cQa",
        "outputId": "eada8a3b-df14-4031-9999-2a24d3d96666"
      },
      "execution_count": 5,
      "outputs": [
        {
          "output_type": "execute_result",
          "data": {
            "text/plain": [
              "array([ 0. ,  2.5,  5. ,  7.5, 10. ])"
            ]
          },
          "metadata": {},
          "execution_count": 5
        }
      ]
    },
    {
      "cell_type": "markdown",
      "source": [
        "**random**  \n",
        "`Purpose`: Used to generate random numbers, often from a uniform or normal distribution.\n",
        "\n",
        "`How it works`: Generates random numbers either within a specified range or from a statistical distribution (like normal distribution)."
      ],
      "metadata": {
        "id": "cR6GpFIg3rr0"
      }
    },
    {
      "cell_type": "code",
      "source": [
        "import numpy as np\n",
        "np.random.rand(5)  # Generates 5 random numbers between 0 and 1\n",
        "# Output: array([0.425, 0.239, 0.592, 0.963, 0.119])\n"
      ],
      "metadata": {
        "colab": {
          "base_uri": "https://localhost:8080/"
        },
        "id": "dMA8xS883pI-",
        "outputId": "21670699-5071-4667-f2b8-1fde84c9afac"
      },
      "execution_count": 6,
      "outputs": [
        {
          "output_type": "execute_result",
          "data": {
            "text/plain": [
              "array([0.58442574, 0.51764337, 0.54536281, 0.84739364, 0.82506277])"
            ]
          },
          "metadata": {},
          "execution_count": 6
        }
      ]
    },
    {
      "cell_type": "markdown",
      "source": [
        "# Key Differences"
      ],
      "metadata": {
        "id": "Doi2bPTO4BOE"
      }
    },
    {
      "cell_type": "markdown",
      "source": [
        "**Spacing**:\n",
        "\n",
        "`linspace`: Generates numbers that are evenly spaced.\n",
        "\n",
        "`random`: Generates numbers randomly, without any specific spacing or pattern.\n",
        "\n",
        "**Use case**:\n",
        "\n",
        "`linspace`: Great for generating ranges of numbers for plotting, simulations, etc., where a fixed step between numbers is required.\n",
        "\n",
        "`random`: Used when you need unpredictable numbers, for simulations, statistical sampling, etc."
      ],
      "metadata": {
        "id": "jvEER7L54FA3"
      }
    },
    {
      "cell_type": "markdown",
      "source": [
        "`In summary, linspace is for evenly spaced sequences of numbers, while random is for generating random values`."
      ],
      "metadata": {
        "id": "bM9lmvFl4ihR"
      }
    },
    {
      "cell_type": "code",
      "source": [
        "# memory\n",
        "a = [i for i in range(10000000)]\n",
        "\n",
        "import sys\n",
        "sys.getsizeof(a)"
      ],
      "metadata": {
        "colab": {
          "base_uri": "https://localhost:8080/"
        },
        "id": "jj6J_vFD34D5",
        "outputId": "72961392-436e-478c-ae16-4e6a2b59578e"
      },
      "execution_count": 8,
      "outputs": [
        {
          "output_type": "execute_result",
          "data": {
            "text/plain": [
              "89095160"
            ]
          },
          "metadata": {},
          "execution_count": 8
        }
      ]
    },
    {
      "cell_type": "code",
      "source": [
        "a = np.arange(10000000,dtype=np.int8)\n",
        "sys.getsizeof(a)"
      ],
      "metadata": {
        "colab": {
          "base_uri": "https://localhost:8080/"
        },
        "id": "7eJfd3AE436n",
        "outputId": "f495003a-536e-4080-db17-0ac862f4e75e"
      },
      "execution_count": 9,
      "outputs": [
        {
          "output_type": "execute_result",
          "data": {
            "text/plain": [
              "10000112"
            ]
          },
          "metadata": {},
          "execution_count": 9
        }
      ]
    },
    {
      "cell_type": "code",
      "source": [
        "# Normal Indexing and slicing\n",
        "\n",
        "a = np.arange(24).reshape(6,4)\n",
        "a"
      ],
      "metadata": {
        "colab": {
          "base_uri": "https://localhost:8080/"
        },
        "id": "J3vJfSoJ5Fvj",
        "outputId": "59456839-a7ae-4b53-a5c8-932fb92ecf1a"
      },
      "execution_count": 10,
      "outputs": [
        {
          "output_type": "execute_result",
          "data": {
            "text/plain": [
              "array([[ 0,  1,  2,  3],\n",
              "       [ 4,  5,  6,  7],\n",
              "       [ 8,  9, 10, 11],\n",
              "       [12, 13, 14, 15],\n",
              "       [16, 17, 18, 19],\n",
              "       [20, 21, 22, 23]])"
            ]
          },
          "metadata": {},
          "execution_count": 10
        }
      ]
    },
    {
      "cell_type": "code",
      "source": [
        "a[1,2]"
      ],
      "metadata": {
        "colab": {
          "base_uri": "https://localhost:8080/"
        },
        "id": "DY2gkamW5KG3",
        "outputId": "00b43ed3-4b86-4356-bc05-16f5064b4e10"
      },
      "execution_count": 11,
      "outputs": [
        {
          "output_type": "execute_result",
          "data": {
            "text/plain": [
              "np.int64(6)"
            ]
          },
          "metadata": {},
          "execution_count": 11
        }
      ]
    },
    {
      "cell_type": "code",
      "source": [
        "a[1:3,1:3]"
      ],
      "metadata": {
        "colab": {
          "base_uri": "https://localhost:8080/"
        },
        "id": "uKB6inM-5NoK",
        "outputId": "bb743a53-b239-4ddd-a0f4-1367413a0cd4"
      },
      "execution_count": 12,
      "outputs": [
        {
          "output_type": "execute_result",
          "data": {
            "text/plain": [
              "array([[ 5,  6],\n",
              "       [ 9, 10]])"
            ]
          },
          "metadata": {},
          "execution_count": 12
        }
      ]
    },
    {
      "cell_type": "code",
      "source": [
        "# Fancy Indexing\n",
        "\n",
        "a[:,[0,2,3]]"
      ],
      "metadata": {
        "colab": {
          "base_uri": "https://localhost:8080/"
        },
        "id": "_ZTCbnT15TAl",
        "outputId": "40b5809e-7c22-4921-8109-b5712e87c16f"
      },
      "execution_count": 13,
      "outputs": [
        {
          "output_type": "execute_result",
          "data": {
            "text/plain": [
              "array([[ 0,  2,  3],\n",
              "       [ 4,  6,  7],\n",
              "       [ 8, 10, 11],\n",
              "       [12, 14, 15],\n",
              "       [16, 18, 19],\n",
              "       [20, 22, 23]])"
            ]
          },
          "metadata": {},
          "execution_count": 13
        }
      ]
    },
    {
      "cell_type": "code",
      "source": [
        "# Boolean Indexing\n",
        "a = np.random.randint(1,100,24).reshape(6,4)\n",
        "a"
      ],
      "metadata": {
        "colab": {
          "base_uri": "https://localhost:8080/"
        },
        "id": "S3AB4WcI5ay8",
        "outputId": "52db3415-52b5-4d14-853c-557acd70ba25"
      },
      "execution_count": 14,
      "outputs": [
        {
          "output_type": "execute_result",
          "data": {
            "text/plain": [
              "array([[64, 37, 35, 68],\n",
              "       [36, 74, 99, 14],\n",
              "       [28, 99, 92, 87],\n",
              "       [35,  6,  1, 22],\n",
              "       [66,  9, 89, 66],\n",
              "       [49, 56, 13, 48]])"
            ]
          },
          "metadata": {},
          "execution_count": 14
        }
      ]
    },
    {
      "cell_type": "code",
      "source": [
        "# find all numbers greater than 50\n",
        "a[a>50]"
      ],
      "metadata": {
        "colab": {
          "base_uri": "https://localhost:8080/"
        },
        "id": "5RNjBw4j5e88",
        "outputId": "84f7c60f-642f-4e5a-e13a-427385be9127"
      },
      "execution_count": 16,
      "outputs": [
        {
          "output_type": "execute_result",
          "data": {
            "text/plain": [
              "array([64, 68, 74, 99, 99, 92, 87, 66, 89, 66, 56])"
            ]
          },
          "metadata": {},
          "execution_count": 16
        }
      ]
    },
    {
      "cell_type": "code",
      "source": [
        "# find out even numbers\n",
        "a[a % 2 == 0]"
      ],
      "metadata": {
        "colab": {
          "base_uri": "https://localhost:8080/"
        },
        "id": "gt5Mx_aI54t4",
        "outputId": "3d11cd9b-053d-41df-822f-ebc08a4b4596"
      },
      "execution_count": 17,
      "outputs": [
        {
          "output_type": "execute_result",
          "data": {
            "text/plain": [
              "array([64, 68, 36, 74, 14, 28, 92,  6, 22, 66, 66, 56, 48])"
            ]
          },
          "metadata": {},
          "execution_count": 17
        }
      ]
    },
    {
      "cell_type": "code",
      "source": [
        "# find all numbers greater than 50 and are even\n",
        "\n",
        "a[(a > 50) & (a % 2 == 0)]"
      ],
      "metadata": {
        "colab": {
          "base_uri": "https://localhost:8080/"
        },
        "id": "Je1j-gBO5_Vf",
        "outputId": "b5bccea5-cff5-46a2-da1a-b4cde5dbf489"
      },
      "execution_count": 18,
      "outputs": [
        {
          "output_type": "execute_result",
          "data": {
            "text/plain": [
              "array([64, 68, 74, 92, 66, 66, 56])"
            ]
          },
          "metadata": {},
          "execution_count": 18
        }
      ]
    },
    {
      "cell_type": "markdown",
      "source": [
        "**In NumPy, to combine boolean conditions element-wise (i.e., on each individual element of the array), you need to use bitwise operators (&, |, ~) instead of logical operators (and, or, not) which are meant for scalar boolean values.**"
      ],
      "metadata": {
        "id": "hWXvoMNI6xPE"
      }
    },
    {
      "cell_type": "code",
      "source": [
        "# find all numbers not divisible by 7\n",
        "a[~(a % 7 == 0)]"
      ],
      "metadata": {
        "id": "YKKTli0i6i3d"
      },
      "execution_count": null,
      "outputs": []
    },
    {
      "cell_type": "markdown",
      "source": [
        "# Broadcasting"
      ],
      "metadata": {
        "id": "y5GYxsIx7A-S"
      }
    },
    {
      "cell_type": "markdown",
      "source": [
        "* The term broadcasting describes how NumPy treats arrays with different shapes during arithmetic operations.\n",
        "\n",
        "* The smaller array is “broadcast” across the larger array so that they have compatible shapes."
      ],
      "metadata": {
        "id": "DhyL2U9v7R7x"
      }
    },
    {
      "cell_type": "markdown",
      "source": [
        "# Broadcasting Rules"
      ],
      "metadata": {
        "id": "NFEyaYMD7Wm7"
      }
    },
    {
      "cell_type": "markdown",
      "source": [
        "1.Make the two arrays have the same number of dimensions.\n",
        "\n",
        "* If the numbers of dimensions of the two arrays are different, add new dimensions with size 1 to the head of the array with the smaller dimension.\n",
        "2.Make each dimension of the two arrays the same size.\n",
        "\n",
        "* If the sizes of each dimension of the two arrays do not match, dimensions with size 1 are stretched to the size of the other array.\n",
        "* If there is a dimension whose size is not 1 in either of the two arrays, it cannot be broadcasted, and an error is raised."
      ],
      "metadata": {
        "id": "tr6Z1nvz7ar6"
      }
    },
    {
      "cell_type": "markdown",
      "source": [
        "![image.png](data:image/png;base64,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)"
      ],
      "metadata": {
        "id": "jW5416wM7wkC"
      }
    },
    {
      "cell_type": "code",
      "source": [
        "# same shape\n",
        "a = np.arange(6).reshape(2,3)\n",
        "b = np.arange(6,12).reshape(2,3)\n",
        "\n",
        "print(a)\n",
        "print(b)\n",
        "\n",
        "print(a+b)"
      ],
      "metadata": {
        "colab": {
          "base_uri": "https://localhost:8080/"
        },
        "id": "5tPxr7uC7Cim",
        "outputId": "86fbc89b-149f-491a-dc36-4d4e3649a022"
      },
      "execution_count": 19,
      "outputs": [
        {
          "output_type": "stream",
          "name": "stdout",
          "text": [
            "[[0 1 2]\n",
            " [3 4 5]]\n",
            "[[ 6  7  8]\n",
            " [ 9 10 11]]\n",
            "[[ 6  8 10]\n",
            " [12 14 16]]\n"
          ]
        }
      ]
    },
    {
      "cell_type": "code",
      "source": [
        "# diff shape\n",
        "a = np.arange(6).reshape(2,3)\n",
        "b = np.arange(3).reshape(1,3)\n",
        "\n",
        "print(a)\n",
        "print(b)\n",
        "\n",
        "print(a+b)"
      ],
      "metadata": {
        "colab": {
          "base_uri": "https://localhost:8080/"
        },
        "id": "2TFSNFje8CpW",
        "outputId": "59757f1a-57d6-48d7-8488-648fc9fe2507"
      },
      "execution_count": 20,
      "outputs": [
        {
          "output_type": "stream",
          "name": "stdout",
          "text": [
            "[[0 1 2]\n",
            " [3 4 5]]\n",
            "[[0 1 2]]\n",
            "[[0 2 4]\n",
            " [3 5 7]]\n"
          ]
        }
      ]
    },
    {
      "cell_type": "code",
      "source": [
        "# More examples\n",
        "\n",
        "a = np.arange(12).reshape(4,3)\n",
        "b = np.arange(3)\n",
        "\n",
        "print(a)\n",
        "print(b)\n",
        "\n",
        "print(a+b)"
      ],
      "metadata": {
        "colab": {
          "base_uri": "https://localhost:8080/"
        },
        "id": "-SoKbqTI8FAh",
        "outputId": "b1890e68-f5d1-4d16-b92e-5866da8e8b53"
      },
      "execution_count": 21,
      "outputs": [
        {
          "output_type": "stream",
          "name": "stdout",
          "text": [
            "[[ 0  1  2]\n",
            " [ 3  4  5]\n",
            " [ 6  7  8]\n",
            " [ 9 10 11]]\n",
            "[0 1 2]\n",
            "[[ 0  2  4]\n",
            " [ 3  5  7]\n",
            " [ 6  8 10]\n",
            " [ 9 11 13]]\n"
          ]
        }
      ]
    },
    {
      "cell_type": "code",
      "source": [
        "a = np.arange(12).reshape(3,4)\n",
        "b = np.arange(3)\n",
        "\n",
        "print(a)\n",
        "print(b)\n",
        "\n",
        "print(a+b)"
      ],
      "metadata": {
        "colab": {
          "base_uri": "https://localhost:8080/",
          "height": 245
        },
        "id": "-JQ902Et9OcQ",
        "outputId": "589a8b5a-db3a-46b5-db25-2d1eb022c71b"
      },
      "execution_count": 22,
      "outputs": [
        {
          "output_type": "stream",
          "name": "stdout",
          "text": [
            "[[ 0  1  2  3]\n",
            " [ 4  5  6  7]\n",
            " [ 8  9 10 11]]\n",
            "[0 1 2]\n"
          ]
        },
        {
          "output_type": "error",
          "ename": "ValueError",
          "evalue": "operands could not be broadcast together with shapes (3,4) (3,) ",
          "traceback": [
            "\u001b[0;31m---------------------------------------------------------------------------\u001b[0m",
            "\u001b[0;31mValueError\u001b[0m                                Traceback (most recent call last)",
            "\u001b[0;32m<ipython-input-22-fa6cbb589166>\u001b[0m in \u001b[0;36m<cell line: 0>\u001b[0;34m()\u001b[0m\n\u001b[1;32m      5\u001b[0m \u001b[0mprint\u001b[0m\u001b[0;34m(\u001b[0m\u001b[0mb\u001b[0m\u001b[0;34m)\u001b[0m\u001b[0;34m\u001b[0m\u001b[0;34m\u001b[0m\u001b[0m\n\u001b[1;32m      6\u001b[0m \u001b[0;34m\u001b[0m\u001b[0m\n\u001b[0;32m----> 7\u001b[0;31m \u001b[0mprint\u001b[0m\u001b[0;34m(\u001b[0m\u001b[0ma\u001b[0m\u001b[0;34m+\u001b[0m\u001b[0mb\u001b[0m\u001b[0;34m)\u001b[0m\u001b[0;34m\u001b[0m\u001b[0;34m\u001b[0m\u001b[0m\n\u001b[0m",
            "\u001b[0;31mValueError\u001b[0m: operands could not be broadcast together with shapes (3,4) (3,) "
          ]
        }
      ]
    },
    {
      "cell_type": "code",
      "source": [
        "a = np.arange(3).reshape(1,3)\n",
        "b = np.arange(3).reshape(3,1)\n",
        "\n",
        "print(a)\n",
        "print(b)\n",
        "\n",
        "print(a+b)"
      ],
      "metadata": {
        "colab": {
          "base_uri": "https://localhost:8080/"
        },
        "id": "l0IinY3Q9WDJ",
        "outputId": "2240f96e-695d-4b04-a51a-0563470bd184"
      },
      "execution_count": 23,
      "outputs": [
        {
          "output_type": "stream",
          "name": "stdout",
          "text": [
            "[[0 1 2]]\n",
            "[[0]\n",
            " [1]\n",
            " [2]]\n",
            "[[0 1 2]\n",
            " [1 2 3]\n",
            " [2 3 4]]\n"
          ]
        }
      ]
    },
    {
      "cell_type": "code",
      "source": [
        "a = np.array([1])\n",
        "# shape -> (1,1)\n",
        "b = np.arange(4).reshape(2,2)\n",
        "# shape -> (2,2)\n",
        "\n",
        "print(a)\n",
        "print(b)\n",
        "\n",
        "print(a+b)"
      ],
      "metadata": {
        "colab": {
          "base_uri": "https://localhost:8080/"
        },
        "id": "5EMUThy49YEt",
        "outputId": "db6d3e88-eef7-4175-df02-ba05af92b96c"
      },
      "execution_count": 24,
      "outputs": [
        {
          "output_type": "stream",
          "name": "stdout",
          "text": [
            "[1]\n",
            "[[0 1]\n",
            " [2 3]]\n",
            "[[1 2]\n",
            " [3 4]]\n"
          ]
        }
      ]
    },
    {
      "cell_type": "code",
      "source": [
        "a = np.arange(12).reshape(3,4)\n",
        "b = np.arange(12).reshape(4,3)\n",
        "\n",
        "print(a)\n",
        "print(b)\n",
        "\n",
        "print(a+b)"
      ],
      "metadata": {
        "colab": {
          "base_uri": "https://localhost:8080/",
          "height": 297
        },
        "id": "_IsqmTJ29vvs",
        "outputId": "78e7788e-83ff-4e5f-86ec-d68b655e3f17"
      },
      "execution_count": 25,
      "outputs": [
        {
          "output_type": "stream",
          "name": "stdout",
          "text": [
            "[[ 0  1  2  3]\n",
            " [ 4  5  6  7]\n",
            " [ 8  9 10 11]]\n",
            "[[ 0  1  2]\n",
            " [ 3  4  5]\n",
            " [ 6  7  8]\n",
            " [ 9 10 11]]\n"
          ]
        },
        {
          "output_type": "error",
          "ename": "ValueError",
          "evalue": "operands could not be broadcast together with shapes (3,4) (4,3) ",
          "traceback": [
            "\u001b[0;31m---------------------------------------------------------------------------\u001b[0m",
            "\u001b[0;31mValueError\u001b[0m                                Traceback (most recent call last)",
            "\u001b[0;32m<ipython-input-25-c590a65467e5>\u001b[0m in \u001b[0;36m<cell line: 0>\u001b[0;34m()\u001b[0m\n\u001b[1;32m      5\u001b[0m \u001b[0mprint\u001b[0m\u001b[0;34m(\u001b[0m\u001b[0mb\u001b[0m\u001b[0;34m)\u001b[0m\u001b[0;34m\u001b[0m\u001b[0;34m\u001b[0m\u001b[0m\n\u001b[1;32m      6\u001b[0m \u001b[0;34m\u001b[0m\u001b[0m\n\u001b[0;32m----> 7\u001b[0;31m \u001b[0mprint\u001b[0m\u001b[0;34m(\u001b[0m\u001b[0ma\u001b[0m\u001b[0;34m+\u001b[0m\u001b[0mb\u001b[0m\u001b[0;34m)\u001b[0m\u001b[0;34m\u001b[0m\u001b[0;34m\u001b[0m\u001b[0m\n\u001b[0m",
            "\u001b[0;31mValueError\u001b[0m: operands could not be broadcast together with shapes (3,4) (4,3) "
          ]
        }
      ]
    },
    {
      "cell_type": "code",
      "source": [
        "a = np.arange(16).reshape(4,4)\n",
        "b = np.arange(4).reshape(2,2)\n",
        "\n",
        "print(a)\n",
        "print(b)\n",
        "\n",
        "print(a+b)"
      ],
      "metadata": {
        "colab": {
          "base_uri": "https://localhost:8080/",
          "height": 280
        },
        "id": "WkERmg8w9xsx",
        "outputId": "f28e75c9-e25a-483e-fcb0-0db3e17100bf"
      },
      "execution_count": 26,
      "outputs": [
        {
          "output_type": "stream",
          "name": "stdout",
          "text": [
            "[[ 0  1  2  3]\n",
            " [ 4  5  6  7]\n",
            " [ 8  9 10 11]\n",
            " [12 13 14 15]]\n",
            "[[0 1]\n",
            " [2 3]]\n"
          ]
        },
        {
          "output_type": "error",
          "ename": "ValueError",
          "evalue": "operands could not be broadcast together with shapes (4,4) (2,2) ",
          "traceback": [
            "\u001b[0;31m---------------------------------------------------------------------------\u001b[0m",
            "\u001b[0;31mValueError\u001b[0m                                Traceback (most recent call last)",
            "\u001b[0;32m<ipython-input-26-57df50a0058a>\u001b[0m in \u001b[0;36m<cell line: 0>\u001b[0;34m()\u001b[0m\n\u001b[1;32m      5\u001b[0m \u001b[0mprint\u001b[0m\u001b[0;34m(\u001b[0m\u001b[0mb\u001b[0m\u001b[0;34m)\u001b[0m\u001b[0;34m\u001b[0m\u001b[0;34m\u001b[0m\u001b[0m\n\u001b[1;32m      6\u001b[0m \u001b[0;34m\u001b[0m\u001b[0m\n\u001b[0;32m----> 7\u001b[0;31m \u001b[0mprint\u001b[0m\u001b[0;34m(\u001b[0m\u001b[0ma\u001b[0m\u001b[0;34m+\u001b[0m\u001b[0mb\u001b[0m\u001b[0;34m)\u001b[0m\u001b[0;34m\u001b[0m\u001b[0;34m\u001b[0m\u001b[0m\n\u001b[0m",
            "\u001b[0;31mValueError\u001b[0m: operands could not be broadcast together with shapes (4,4) (2,2) "
          ]
        }
      ]
    },
    {
      "cell_type": "markdown",
      "source": [
        "# Working with mathematical formulas"
      ],
      "metadata": {
        "id": "po-7e59991wb"
      }
    },
    {
      "cell_type": "code",
      "source": [
        "a = np.arange(10)\n",
        "np.sin(a)"
      ],
      "metadata": {
        "colab": {
          "base_uri": "https://localhost:8080/"
        },
        "id": "YUPlBUVn9zr-",
        "outputId": "ddf2a334-ec36-4c6f-9305-076d82b8460f"
      },
      "execution_count": 27,
      "outputs": [
        {
          "output_type": "execute_result",
          "data": {
            "text/plain": [
              "array([ 0.        ,  0.84147098,  0.90929743,  0.14112001, -0.7568025 ,\n",
              "       -0.95892427, -0.2794155 ,  0.6569866 ,  0.98935825,  0.41211849])"
            ]
          },
          "metadata": {},
          "execution_count": 27
        }
      ]
    },
    {
      "cell_type": "code",
      "source": [
        "# sigmoid\n",
        "def sigmoid(array):\n",
        "  return 1/(1 + np.exp(-(array)))\n",
        "\n",
        "\n",
        "a = np.arange(100)\n",
        "\n",
        "sigmoid(a)"
      ],
      "metadata": {
        "colab": {
          "base_uri": "https://localhost:8080/"
        },
        "id": "RrC0e4iE95d4",
        "outputId": "4bbedbc3-9f78-499d-88f9-f6c2bcb0cc62"
      },
      "execution_count": 28,
      "outputs": [
        {
          "output_type": "execute_result",
          "data": {
            "text/plain": [
              "array([0.5       , 0.73105858, 0.88079708, 0.95257413, 0.98201379,\n",
              "       0.99330715, 0.99752738, 0.99908895, 0.99966465, 0.99987661,\n",
              "       0.9999546 , 0.9999833 , 0.99999386, 0.99999774, 0.99999917,\n",
              "       0.99999969, 0.99999989, 0.99999996, 0.99999998, 0.99999999,\n",
              "       1.        , 1.        , 1.        , 1.        , 1.        ,\n",
              "       1.        , 1.        , 1.        , 1.        , 1.        ,\n",
              "       1.        , 1.        , 1.        , 1.        , 1.        ,\n",
              "       1.        , 1.        , 1.        , 1.        , 1.        ,\n",
              "       1.        , 1.        , 1.        , 1.        , 1.        ,\n",
              "       1.        , 1.        , 1.        , 1.        , 1.        ,\n",
              "       1.        , 1.        , 1.        , 1.        , 1.        ,\n",
              "       1.        , 1.        , 1.        , 1.        , 1.        ,\n",
              "       1.        , 1.        , 1.        , 1.        , 1.        ,\n",
              "       1.        , 1.        , 1.        , 1.        , 1.        ,\n",
              "       1.        , 1.        , 1.        , 1.        , 1.        ,\n",
              "       1.        , 1.        , 1.        , 1.        , 1.        ,\n",
              "       1.        , 1.        , 1.        , 1.        , 1.        ,\n",
              "       1.        , 1.        , 1.        , 1.        , 1.        ,\n",
              "       1.        , 1.        , 1.        , 1.        , 1.        ,\n",
              "       1.        , 1.        , 1.        , 1.        , 1.        ])"
            ]
          },
          "metadata": {},
          "execution_count": 28
        }
      ]
    },
    {
      "cell_type": "code",
      "source": [
        "# mean squared error\n",
        "\n",
        "actual = np.random.randint(1,50,25)\n",
        "predicted = np.random.randint(1,50,25)"
      ],
      "metadata": {
        "id": "oF7P_fF698mj"
      },
      "execution_count": 29,
      "outputs": []
    },
    {
      "cell_type": "code",
      "source": [
        "def mse(actual,predicted):\n",
        "  return np.mean((actual - predicted)**2)\n",
        "\n",
        "mse(actual,predicted)"
      ],
      "metadata": {
        "colab": {
          "base_uri": "https://localhost:8080/"
        },
        "id": "5fgYhXg5-AtE",
        "outputId": "fdd04e2b-710c-4622-fc02-5c6944fc3226"
      },
      "execution_count": 30,
      "outputs": [
        {
          "output_type": "execute_result",
          "data": {
            "text/plain": [
              "np.float64(302.6)"
            ]
          },
          "metadata": {},
          "execution_count": 30
        }
      ]
    },
    {
      "cell_type": "code",
      "source": [
        "# binary cross entropy\n",
        "np.mean((actual - predicted)**2)"
      ],
      "metadata": {
        "colab": {
          "base_uri": "https://localhost:8080/"
        },
        "id": "NrhtfDrr-GCG",
        "outputId": "ffd3d692-58dd-4c23-929a-0ecf7cf1d793"
      },
      "execution_count": 31,
      "outputs": [
        {
          "output_type": "execute_result",
          "data": {
            "text/plain": [
              "np.float64(302.6)"
            ]
          },
          "metadata": {},
          "execution_count": 31
        }
      ]
    },
    {
      "cell_type": "markdown",
      "source": [
        "# Working with missing values"
      ],
      "metadata": {
        "id": "dcYNm3eM-NCr"
      }
    },
    {
      "cell_type": "code",
      "source": [
        "# Working with missing values -> np.nan\n",
        "a = np.array([1,2,3,4,np.nan,6])\n",
        "a"
      ],
      "metadata": {
        "colab": {
          "base_uri": "https://localhost:8080/"
        },
        "id": "Y3Waur7R-Kl-",
        "outputId": "cd2f63dd-9ea8-443c-e39c-758edc85465e"
      },
      "execution_count": 32,
      "outputs": [
        {
          "output_type": "execute_result",
          "data": {
            "text/plain": [
              "array([ 1.,  2.,  3.,  4., nan,  6.])"
            ]
          },
          "metadata": {},
          "execution_count": 32
        }
      ]
    },
    {
      "cell_type": "code",
      "source": [
        "a[~np.isnan(a)]"
      ],
      "metadata": {
        "colab": {
          "base_uri": "https://localhost:8080/"
        },
        "id": "MM4gX8VD-QW0",
        "outputId": "ca96be45-0626-46c0-d3fa-4415fb8d05e9"
      },
      "execution_count": 33,
      "outputs": [
        {
          "output_type": "execute_result",
          "data": {
            "text/plain": [
              "array([1., 2., 3., 4., 6.])"
            ]
          },
          "metadata": {},
          "execution_count": 33
        }
      ]
    },
    {
      "cell_type": "code",
      "source": [
        "# plotting a 2D plot\n",
        "# x = y\n",
        "import matplotlib.pyplot as plt\n",
        "\n",
        "x = np.linspace(-10,10,100)\n",
        "y = x\n",
        "\n",
        "plt.plot(x,y)"
      ],
      "metadata": {
        "colab": {
          "base_uri": "https://localhost:8080/",
          "height": 447
        },
        "id": "5gNPY60c-ZRu",
        "outputId": "fb097282-981c-411c-93e6-e0788225f4b7"
      },
      "execution_count": 34,
      "outputs": [
        {
          "output_type": "execute_result",
          "data": {
            "text/plain": [
              "[<matplotlib.lines.Line2D at 0x78c11e398ed0>]"
            ]
          },
          "metadata": {},
          "execution_count": 34
        },
        {
          "output_type": "display_data",
          "data": {
            "text/plain": [
              "<Figure size 640x480 with 1 Axes>"
            ],
            "image/png": "[encoded data removed]"
          },
          "metadata": {}
        }
      ]
    },
    {
      "cell_type": "code",
      "source": [
        "# y = x^2\n",
        "x = np.linspace(-10,10,100)\n",
        "y = x**2\n",
        "\n",
        "plt.plot(x,y)"
      ],
      "metadata": {
        "colab": {
          "base_uri": "https://localhost:8080/",
          "height": 447
        },
        "id": "1gnvsdRK-lwh",
        "outputId": "5856052f-87fe-4153-9ed3-bb8819617d70"
      },
      "execution_count": 35,
      "outputs": [
        {
          "output_type": "execute_result",
          "data": {
            "text/plain": [
              "[<matplotlib.lines.Line2D at 0x78c127053d10>]"
            ]
          },
          "metadata": {},
          "execution_count": 35
        },
        {
          "output_type": "display_data",
          "data": {
            "text/plain": [
              "<Figure size 640x480 with 1 Axes>"
            ],
            "image/png": "[encoded data removed]"
          },
          "metadata": {}
        }
      ]
    },
    {
      "cell_type": "code",
      "source": [
        "# y = sin(x)\n",
        "x = np.linspace(-10,10,100)\n",
        "y = np.sin(x)\n",
        "\n",
        "plt.plot(x,y)"
      ],
      "metadata": {
        "colab": {
          "base_uri": "https://localhost:8080/",
          "height": 447
        },
        "id": "2vofo6KL-u3Q",
        "outputId": "2b1d820d-d53e-4a1d-ef32-7f88102ea0fc"
      },
      "execution_count": 36,
      "outputs": [
        {
          "output_type": "execute_result",
          "data": {
            "text/plain": [
              "[<matplotlib.lines.Line2D at 0x78c124f19a90>]"
            ]
          },
          "metadata": {},
          "execution_count": 36
        },
        {
          "output_type": "display_data",
          "data": {
            "text/plain": [
              "<Figure size 640x480 with 1 Axes>"
            ],
            "image/png": "[encoded data removed]"
          },
          "metadata": {}
        }
      ]
    },
    {
      "cell_type": "code",
      "source": [
        "# y = xlog(x)\n",
        "x = np.linspace(-10,10,100)\n",
        "y = x * np.log(x)\n",
        "\n",
        "plt.plot(x,y)"
      ],
      "metadata": {
        "colab": {
          "base_uri": "https://localhost:8080/",
          "height": 482
        },
        "id": "uk2OOci_-xIz",
        "outputId": "e64cd03b-18e7-472b-cdb1-a49f1c1eb8d0"
      },
      "execution_count": 37,
      "outputs": [
        {
          "output_type": "stream",
          "name": "stderr",
          "text": [
            "<ipython-input-37-4b3958c08378>:3: RuntimeWarning: invalid value encountered in log\n",
            "  y = x * np.log(x)\n"
          ]
        },
        {
          "output_type": "execute_result",
          "data": {
            "text/plain": [
              "[<matplotlib.lines.Line2D at 0x78c126ff3e50>]"
            ]
          },
          "metadata": {},
          "execution_count": 37
        },
        {
          "output_type": "display_data",
          "data": {
            "text/plain": [
              "<Figure size 640x480 with 1 Axes>"
            ],
            "image/png": "[encoded data removed]"
          },
          "metadata": {}
        }
      ]
    },
    {
      "cell_type": "code",
      "source": [
        "# sigmoid\n",
        "x = np.linspace(-10,10,100)\n",
        "y = 1/(1+np.exp(-x))\n",
        "\n",
        "plt.plot(x,y)"
      ],
      "metadata": {
        "colab": {
          "base_uri": "https://localhost:8080/",
          "height": 447
        },
        "id": "CrmFVtDt-ypW",
        "outputId": "4fb07e54-6167-4ba6-f9e0-1bc739a1e9e2"
      },
      "execution_count": 38,
      "outputs": [
        {
          "output_type": "execute_result",
          "data": {
            "text/plain": [
              "[<matplotlib.lines.Line2D at 0x78c124df9250>]"
            ]
          },
          "metadata": {},
          "execution_count": 38
        },
        {
          "output_type": "display_data",
          "data": {
            "text/plain": [
              "<Figure size 640x480 with 1 Axes>"
            ],
            "image/png": "[encoded data removed]"
          },
          "metadata": {}
        }
      ]
    },
    {
      "cell_type": "markdown",
      "source": [
        "# Meshgrids"
      ],
      "metadata": {
        "id": "0OBYHeDJ_AJj"
      }
    },
    {
      "cell_type": "markdown",
      "source": [
        "`Purpose`: np.meshgrid() helps create a 2D grid from two 1D arrays, which is particularly useful for evaluating functions over a grid or for plotting 3D surfaces.\n",
        "\n",
        "`How it works`: It takes two 1D arrays and outputs two 2D arrays representing all possible combinations of the x and y values.\n",
        "\n",
        "`Use cases`: Meshgrids are often used in:\n",
        "\n",
        "Visualizations such as `surface` and `contour` plots.\n",
        "\n",
        "Numerical computations over grids (e.g., solving PDEs, evaluating scalar fields).\n",
        "\n",
        "The `meshgrid` is a very powerful tool, especially for tasks like visualizing mathematical functions in 2D or 3D, and it's widely used in fields like physics, engineering, and data visualization."
      ],
      "metadata": {
        "id": "4KifQoH7_rgM"
      }
    },
    {
      "cell_type": "markdown",
      "source": [
        "# numPy Tricks"
      ],
      "metadata": {
        "id": "mwMavzMJFwS0"
      }
    },
    {
      "cell_type": "markdown",
      "source": [
        "**np.sort**"
      ],
      "metadata": {
        "id": "JpZSgY1yF6Yd"
      }
    },
    {
      "cell_type": "code",
      "source": [
        "# code\n",
        "import numpy as np\n",
        "a = np.random.randint(1,100,15)\n",
        "a"
      ],
      "metadata": {
        "colab": {
          "base_uri": "https://localhost:8080/"
        },
        "id": "IkWfU56v-0g8",
        "outputId": "a022877a-1c0e-4a57-8694-a5637fb6c0fe"
      },
      "execution_count": 39,
      "outputs": [
        {
          "output_type": "execute_result",
          "data": {
            "text/plain": [
              "array([14,  5, 56, 54,  8, 12, 97, 74, 60, 43, 68, 61, 59, 68, 48])"
            ]
          },
          "metadata": {},
          "execution_count": 39
        }
      ]
    },
    {
      "cell_type": "code",
      "source": [
        "b = np.random.randint(1,100,24).reshape(6,4)\n",
        "b"
      ],
      "metadata": {
        "colab": {
          "base_uri": "https://localhost:8080/"
        },
        "id": "H2qht_UkF-sj",
        "outputId": "dbcf53b4-691a-4222-b558-f01ab78182fb"
      },
      "execution_count": 40,
      "outputs": [
        {
          "output_type": "execute_result",
          "data": {
            "text/plain": [
              "array([[12, 93, 96, 13],\n",
              "       [ 2, 25, 14, 70],\n",
              "       [28, 59, 32, 94],\n",
              "       [41, 35, 87, 42],\n",
              "       [27, 29, 66, 37],\n",
              "       [27, 70, 64, 42]])"
            ]
          },
          "metadata": {},
          "execution_count": 40
        }
      ]
    },
    {
      "cell_type": "code",
      "source": [
        "np.sort(a)"
      ],
      "metadata": {
        "colab": {
          "base_uri": "https://localhost:8080/"
        },
        "id": "DDyD_69IGBQ0",
        "outputId": "fe0063fb-8ca7-4afa-b02c-a6a5c0055348"
      },
      "execution_count": 41,
      "outputs": [
        {
          "output_type": "execute_result",
          "data": {
            "text/plain": [
              "array([ 5,  8, 12, 14, 43, 48, 54, 56, 59, 60, 61, 68, 68, 74, 97])"
            ]
          },
          "metadata": {},
          "execution_count": 41
        }
      ]
    },
    {
      "cell_type": "code",
      "source": [
        "np.sort(a)[::-1]"
      ],
      "metadata": {
        "colab": {
          "base_uri": "https://localhost:8080/"
        },
        "id": "MQvpMmdNGJIs",
        "outputId": "a64dcd6d-e244-4601-a308-066c1b4fb37b"
      },
      "execution_count": 42,
      "outputs": [
        {
          "output_type": "execute_result",
          "data": {
            "text/plain": [
              "array([97, 74, 68, 68, 61, 60, 59, 56, 54, 48, 43, 14, 12,  8,  5])"
            ]
          },
          "metadata": {},
          "execution_count": 42
        }
      ]
    },
    {
      "cell_type": "code",
      "source": [
        "np.sort(b,axis=0)"
      ],
      "metadata": {
        "colab": {
          "base_uri": "https://localhost:8080/"
        },
        "id": "7n7puZDuGQka",
        "outputId": "8d8859bf-a517-4c2c-e3d8-4a535843818e"
      },
      "execution_count": 43,
      "outputs": [
        {
          "output_type": "execute_result",
          "data": {
            "text/plain": [
              "array([[ 2, 25, 14, 13],\n",
              "       [12, 29, 32, 37],\n",
              "       [27, 35, 64, 42],\n",
              "       [27, 59, 66, 42],\n",
              "       [28, 70, 87, 70],\n",
              "       [41, 93, 96, 94]])"
            ]
          },
          "metadata": {},
          "execution_count": 43
        }
      ]
    },
    {
      "cell_type": "code",
      "source": [
        "np.sort(b,axis=1)"
      ],
      "metadata": {
        "colab": {
          "base_uri": "https://localhost:8080/"
        },
        "id": "w4mMsnFCGTuJ",
        "outputId": "7225461b-ae52-409e-fba6-6b3e5fa525ef"
      },
      "execution_count": 44,
      "outputs": [
        {
          "output_type": "execute_result",
          "data": {
            "text/plain": [
              "array([[12, 13, 93, 96],\n",
              "       [ 2, 14, 25, 70],\n",
              "       [28, 32, 59, 94],\n",
              "       [35, 41, 42, 87],\n",
              "       [27, 29, 37, 66],\n",
              "       [27, 42, 64, 70]])"
            ]
          },
          "metadata": {},
          "execution_count": 44
        }
      ]
    },
    {
      "cell_type": "markdown",
      "source": [
        "**np.append**  \n",
        "* The numpy.append() appends values along the mentioned axis at the end of the array"
      ],
      "metadata": {
        "id": "bXBf1RZqHBbr"
      }
    },
    {
      "cell_type": "code",
      "source": [
        "# code\n",
        "np.append(a,200)"
      ],
      "metadata": {
        "colab": {
          "base_uri": "https://localhost:8080/"
        },
        "id": "rTdyvOUxGYhv",
        "outputId": "a850f3ca-0a05-403e-e093-fcb3198c01e1"
      },
      "execution_count": 45,
      "outputs": [
        {
          "output_type": "execute_result",
          "data": {
            "text/plain": [
              "array([ 14,   5,  56,  54,   8,  12,  97,  74,  60,  43,  68,  61,  59,\n",
              "        68,  48, 200])"
            ]
          },
          "metadata": {},
          "execution_count": 45
        }
      ]
    },
    {
      "cell_type": "code",
      "source": [
        "np.append(b,np.random.random((b.shape[0],1)),axis=1)"
      ],
      "metadata": {
        "colab": {
          "base_uri": "https://localhost:8080/"
        },
        "id": "Soo8cr1VHKAM",
        "outputId": "cf2f7cfa-e7ed-4a54-e356-72c2f78501fe"
      },
      "execution_count": 46,
      "outputs": [
        {
          "output_type": "execute_result",
          "data": {
            "text/plain": [
              "array([[12.        , 93.        , 96.        , 13.        ,  0.89901202],\n",
              "       [ 2.        , 25.        , 14.        , 70.        ,  0.35211841],\n",
              "       [28.        , 59.        , 32.        , 94.        ,  0.5654821 ],\n",
              "       [41.        , 35.        , 87.        , 42.        ,  0.64916086],\n",
              "       [27.        , 29.        , 66.        , 37.        ,  0.41966213],\n",
              "       [27.        , 70.        , 64.        , 42.        ,  0.90708616]])"
            ]
          },
          "metadata": {},
          "execution_count": 46
        }
      ]
    },
    {
      "cell_type": "markdown",
      "source": [
        "**np.concatenate**"
      ],
      "metadata": {
        "id": "0SRyOKxVIGjD"
      }
    },
    {
      "cell_type": "code",
      "source": [
        "# code\n",
        "c = np.arange(6).reshape(2,3)\n",
        "d = np.arange(6,12).reshape(2,3)\n",
        "\n",
        "print(c)\n",
        "print(d)"
      ],
      "metadata": {
        "colab": {
          "base_uri": "https://localhost:8080/"
        },
        "id": "dApWBBhDH_LC",
        "outputId": "9fa95a35-66cc-497d-e6e1-0428edd4fa15"
      },
      "execution_count": 47,
      "outputs": [
        {
          "output_type": "stream",
          "name": "stdout",
          "text": [
            "[[0 1 2]\n",
            " [3 4 5]]\n",
            "[[ 6  7  8]\n",
            " [ 9 10 11]]\n"
          ]
        }
      ]
    },
    {
      "cell_type": "code",
      "source": [
        "np.concatenate((c,d),axis=0)"
      ],
      "metadata": {
        "colab": {
          "base_uri": "https://localhost:8080/"
        },
        "id": "eQKw4E_-IKl4",
        "outputId": "e03b52ca-10b2-4706-9afe-66c79dd39b62"
      },
      "execution_count": 48,
      "outputs": [
        {
          "output_type": "execute_result",
          "data": {
            "text/plain": [
              "array([[ 0,  1,  2],\n",
              "       [ 3,  4,  5],\n",
              "       [ 6,  7,  8],\n",
              "       [ 9, 10, 11]])"
            ]
          },
          "metadata": {},
          "execution_count": 48
        }
      ]
    },
    {
      "cell_type": "code",
      "source": [
        "np.concatenate((c,d),axis=1)"
      ],
      "metadata": {
        "colab": {
          "base_uri": "https://localhost:8080/"
        },
        "id": "A76dCkNXIPFx",
        "outputId": "eb2b3975-1fce-4e32-e1d1-2223521330e5"
      },
      "execution_count": 49,
      "outputs": [
        {
          "output_type": "execute_result",
          "data": {
            "text/plain": [
              "array([[ 0,  1,  2,  6,  7,  8],\n",
              "       [ 3,  4,  5,  9, 10, 11]])"
            ]
          },
          "metadata": {},
          "execution_count": 49
        }
      ]
    },
    {
      "cell_type": "markdown",
      "source": [
        "**np.unique**  \n",
        "* With the help of `np.unique()` method, we can get the unique values from an array given as parameter in `np.unique()` method."
      ],
      "metadata": {
        "id": "rOLSuf50IeAI"
      }
    },
    {
      "cell_type": "code",
      "source": [
        "# code\n",
        "e = np.array([1,1,2,2,3,3,4,4,5,5,6,6])"
      ],
      "metadata": {
        "id": "YER7gN7eIR0I"
      },
      "execution_count": 50,
      "outputs": []
    },
    {
      "cell_type": "code",
      "source": [
        "np.unique(e)"
      ],
      "metadata": {
        "colab": {
          "base_uri": "https://localhost:8080/"
        },
        "id": "NZQTnjJWIn7u",
        "outputId": "b59f80f7-3c5e-4908-862c-3dbb09e4d70f"
      },
      "execution_count": 51,
      "outputs": [
        {
          "output_type": "execute_result",
          "data": {
            "text/plain": [
              "array([1, 2, 3, 4, 5, 6])"
            ]
          },
          "metadata": {},
          "execution_count": 51
        }
      ]
    },
    {
      "cell_type": "markdown",
      "source": [
        "**np.expand_dims**\n",
        "* With the help of `Numpy.expand_dims()` method, we can get the expanded dimensions of an array"
      ],
      "metadata": {
        "id": "nuDbG78KIrNi"
      }
    },
    {
      "cell_type": "code",
      "source": [
        "# code\n",
        "a.shape"
      ],
      "metadata": {
        "colab": {
          "base_uri": "https://localhost:8080/"
        },
        "id": "eXrOEt9yIpHh",
        "outputId": "31868585-c4b7-41da-c8c1-d0c38f0dec62"
      },
      "execution_count": 52,
      "outputs": [
        {
          "output_type": "execute_result",
          "data": {
            "text/plain": [
              "(15,)"
            ]
          },
          "metadata": {},
          "execution_count": 52
        }
      ]
    },
    {
      "cell_type": "code",
      "source": [
        "np.expand_dims(a,axis=0).shape"
      ],
      "metadata": {
        "colab": {
          "base_uri": "https://localhost:8080/"
        },
        "id": "DokmHATSI_UM",
        "outputId": "9a041e3e-9d22-4626-9073-8ad7426f66b4"
      },
      "execution_count": 53,
      "outputs": [
        {
          "output_type": "execute_result",
          "data": {
            "text/plain": [
              "(1, 15)"
            ]
          },
          "metadata": {},
          "execution_count": 53
        }
      ]
    },
    {
      "cell_type": "code",
      "source": [
        "np.expand_dims(a,axis=1).shape"
      ],
      "metadata": {
        "colab": {
          "base_uri": "https://localhost:8080/"
        },
        "id": "O0b4ZshUJAlr",
        "outputId": "603b869d-3cc5-4852-fbe4-a9b56667e7a7"
      },
      "execution_count": 55,
      "outputs": [
        {
          "output_type": "execute_result",
          "data": {
            "text/plain": [
              "(15, 1)"
            ]
          },
          "metadata": {},
          "execution_count": 55
        }
      ]
    },
    {
      "cell_type": "markdown",
      "source": [
        "**np.where**\n",
        "* The `numpy.where()` function returns the indices of elements in an input array where the given condition is satisfied."
      ],
      "metadata": {
        "id": "Gg95_Th2JKEj"
      }
    },
    {
      "cell_type": "code",
      "source": [
        "a"
      ],
      "metadata": {
        "colab": {
          "base_uri": "https://localhost:8080/"
        },
        "id": "N016L-K2JC9s",
        "outputId": "db74cf33-2aea-43df-a8ce-4f7be71b203e"
      },
      "execution_count": 56,
      "outputs": [
        {
          "output_type": "execute_result",
          "data": {
            "text/plain": [
              "array([14,  5, 56, 54,  8, 12, 97, 74, 60, 43, 68, 61, 59, 68, 48])"
            ]
          },
          "metadata": {},
          "execution_count": 56
        }
      ]
    },
    {
      "cell_type": "code",
      "source": [
        "# find all indices with value greater than 50\n",
        "np.where(a>50)"
      ],
      "metadata": {
        "colab": {
          "base_uri": "https://localhost:8080/"
        },
        "id": "Nb1g5PURJQey",
        "outputId": "ef80a5dd-6d10-4c68-bc34-33502094b699"
      },
      "execution_count": 57,
      "outputs": [
        {
          "output_type": "execute_result",
          "data": {
            "text/plain": [
              "(array([ 2,  3,  6,  7,  8, 10, 11, 12, 13]),)"
            ]
          },
          "metadata": {},
          "execution_count": 57
        }
      ]
    },
    {
      "cell_type": "code",
      "source": [
        "# replace all values > 50 with 0\n",
        "np.where(a>50,0,a)"
      ],
      "metadata": {
        "colab": {
          "base_uri": "https://localhost:8080/"
        },
        "id": "fjFx_FAMJSfR",
        "outputId": "d7bea064-a943-4a1f-f6f5-1f7cfd3d7e5b"
      },
      "execution_count": 58,
      "outputs": [
        {
          "output_type": "execute_result",
          "data": {
            "text/plain": [
              "array([14,  5,  0,  0,  8, 12,  0,  0,  0, 43,  0,  0,  0,  0, 48])"
            ]
          },
          "metadata": {},
          "execution_count": 58
        }
      ]
    },
    {
      "cell_type": "code",
      "source": [
        "np.where(a%2 == 0,0,a)"
      ],
      "metadata": {
        "colab": {
          "base_uri": "https://localhost:8080/"
        },
        "id": "1VHW8pReJVUo",
        "outputId": "2af38eea-8a85-408d-b2f4-d2cdaceeffc3"
      },
      "execution_count": 59,
      "outputs": [
        {
          "output_type": "execute_result",
          "data": {
            "text/plain": [
              "array([ 0,  5,  0,  0,  0,  0, 97,  0,  0, 43,  0, 61, 59,  0,  0])"
            ]
          },
          "metadata": {},
          "execution_count": 59
        }
      ]
    },
    {
      "cell_type": "markdown",
      "source": [
        "**np.argmax**\n",
        "* The `numpy.argmax()` function returns indices of the max element of the array in a particular axis."
      ],
      "metadata": {
        "id": "EG8wrAyVJdOj"
      }
    },
    {
      "cell_type": "code",
      "source": [
        "# code\n",
        "a"
      ],
      "metadata": {
        "colab": {
          "base_uri": "https://localhost:8080/"
        },
        "id": "BrC-JbXAJbbW",
        "outputId": "32a2b6b4-8ab7-4bd5-c9b0-d45fcf079648"
      },
      "execution_count": 60,
      "outputs": [
        {
          "output_type": "execute_result",
          "data": {
            "text/plain": [
              "array([14,  5, 56, 54,  8, 12, 97, 74, 60, 43, 68, 61, 59, 68, 48])"
            ]
          },
          "metadata": {},
          "execution_count": 60
        }
      ]
    },
    {
      "cell_type": "code",
      "source": [
        "np.argmax(a)"
      ],
      "metadata": {
        "colab": {
          "base_uri": "https://localhost:8080/"
        },
        "id": "a4iTX59HJhwx",
        "outputId": "31f5c94b-4516-45a3-a331-e5a65ed158f7"
      },
      "execution_count": 61,
      "outputs": [
        {
          "output_type": "execute_result",
          "data": {
            "text/plain": [
              "np.int64(6)"
            ]
          },
          "metadata": {},
          "execution_count": 61
        }
      ]
    },
    {
      "cell_type": "code",
      "source": [
        "b"
      ],
      "metadata": {
        "colab": {
          "base_uri": "https://localhost:8080/"
        },
        "id": "GFXA22iHJjL0",
        "outputId": "1a50cb00-aa30-4598-bb55-5c81a928092a"
      },
      "execution_count": 62,
      "outputs": [
        {
          "output_type": "execute_result",
          "data": {
            "text/plain": [
              "array([[12, 93, 96, 13],\n",
              "       [ 2, 25, 14, 70],\n",
              "       [28, 59, 32, 94],\n",
              "       [41, 35, 87, 42],\n",
              "       [27, 29, 66, 37],\n",
              "       [27, 70, 64, 42]])"
            ]
          },
          "metadata": {},
          "execution_count": 62
        }
      ]
    },
    {
      "cell_type": "code",
      "source": [
        "np.argmax(b,axis=0)"
      ],
      "metadata": {
        "colab": {
          "base_uri": "https://localhost:8080/"
        },
        "id": "mzD0ZtGEJk02",
        "outputId": "d37b5a53-6b60-4e75-cd26-b9d5de3dbf8e"
      },
      "execution_count": 63,
      "outputs": [
        {
          "output_type": "execute_result",
          "data": {
            "text/plain": [
              "array([3, 0, 0, 2])"
            ]
          },
          "metadata": {},
          "execution_count": 63
        }
      ]
    },
    {
      "cell_type": "code",
      "source": [
        "np.argmax(b,axis=1)"
      ],
      "metadata": {
        "colab": {
          "base_uri": "https://localhost:8080/"
        },
        "id": "maIj0xDYJmUG",
        "outputId": "802ba720-a4d2-4764-b9e8-ddcffbbfa9b6"
      },
      "execution_count": 64,
      "outputs": [
        {
          "output_type": "execute_result",
          "data": {
            "text/plain": [
              "array([2, 3, 3, 2, 2, 1])"
            ]
          },
          "metadata": {},
          "execution_count": 64
        }
      ]
    },
    {
      "cell_type": "markdown",
      "source": [
        "**np.cumsum**\n",
        "* `numpy.cumsum()` function is used when we want to compute the cumulative sum of array elements over a given axis."
      ],
      "metadata": {
        "id": "GQOjzbR6KOTb"
      }
    },
    {
      "cell_type": "code",
      "source": [
        "a"
      ],
      "metadata": {
        "colab": {
          "base_uri": "https://localhost:8080/"
        },
        "id": "ck5aMO1oKLqs",
        "outputId": "8d412fda-d49e-48f2-c2e0-f9d5ef4ed78b"
      },
      "execution_count": 65,
      "outputs": [
        {
          "output_type": "execute_result",
          "data": {
            "text/plain": [
              "array([14,  5, 56, 54,  8, 12, 97, 74, 60, 43, 68, 61, 59, 68, 48])"
            ]
          },
          "metadata": {},
          "execution_count": 65
        }
      ]
    },
    {
      "cell_type": "code",
      "source": [
        "np.cumsum(a)"
      ],
      "metadata": {
        "colab": {
          "base_uri": "https://localhost:8080/"
        },
        "id": "nbhJkYniKSqK",
        "outputId": "505b7bea-0e51-4dfd-905c-24e2551abd0c"
      },
      "execution_count": 66,
      "outputs": [
        {
          "output_type": "execute_result",
          "data": {
            "text/plain": [
              "array([ 14,  19,  75, 129, 137, 149, 246, 320, 380, 423, 491, 552, 611,\n",
              "       679, 727])"
            ]
          },
          "metadata": {},
          "execution_count": 66
        }
      ]
    },
    {
      "cell_type": "code",
      "source": [
        "b"
      ],
      "metadata": {
        "colab": {
          "base_uri": "https://localhost:8080/"
        },
        "id": "Jrr5fFmDKUn6",
        "outputId": "cbf7a312-f8f3-4fcc-eabc-d9f4048fb29f"
      },
      "execution_count": 67,
      "outputs": [
        {
          "output_type": "execute_result",
          "data": {
            "text/plain": [
              "array([[12, 93, 96, 13],\n",
              "       [ 2, 25, 14, 70],\n",
              "       [28, 59, 32, 94],\n",
              "       [41, 35, 87, 42],\n",
              "       [27, 29, 66, 37],\n",
              "       [27, 70, 64, 42]])"
            ]
          },
          "metadata": {},
          "execution_count": 67
        }
      ]
    },
    {
      "cell_type": "code",
      "source": [
        "np.cumsum(b,axis = 1)"
      ],
      "metadata": {
        "colab": {
          "base_uri": "https://localhost:8080/"
        },
        "id": "4KpgtHHHKWgm",
        "outputId": "9749baf3-b34c-4803-ddcb-f11942e81ac7"
      },
      "execution_count": 68,
      "outputs": [
        {
          "output_type": "execute_result",
          "data": {
            "text/plain": [
              "array([[ 12, 105, 201, 214],\n",
              "       [  2,  27,  41, 111],\n",
              "       [ 28,  87, 119, 213],\n",
              "       [ 41,  76, 163, 205],\n",
              "       [ 27,  56, 122, 159],\n",
              "       [ 27,  97, 161, 203]])"
            ]
          },
          "metadata": {},
          "execution_count": 68
        }
      ]
    },
    {
      "cell_type": "code",
      "source": [
        "np.cumsum(b,axis = 0)"
      ],
      "metadata": {
        "colab": {
          "base_uri": "https://localhost:8080/"
        },
        "id": "p1-no9KtKbT8",
        "outputId": "5dd1133d-7ac5-4b2c-84a6-b67d1cfc0788"
      },
      "execution_count": 69,
      "outputs": [
        {
          "output_type": "execute_result",
          "data": {
            "text/plain": [
              "array([[ 12,  93,  96,  13],\n",
              "       [ 14, 118, 110,  83],\n",
              "       [ 42, 177, 142, 177],\n",
              "       [ 83, 212, 229, 219],\n",
              "       [110, 241, 295, 256],\n",
              "       [137, 311, 359, 298]])"
            ]
          },
          "metadata": {},
          "execution_count": 69
        }
      ]
    },
    {
      "cell_type": "code",
      "source": [
        "# np.cumprod\n",
        "np.cumprod(a)"
      ],
      "metadata": {
        "colab": {
          "base_uri": "https://localhost:8080/"
        },
        "id": "srQp_G61Kh9K",
        "outputId": "d7a95bea-2d35-4ccc-e1a1-f030276c1b40"
      },
      "execution_count": 70,
      "outputs": [
        {
          "output_type": "execute_result",
          "data": {
            "text/plain": [
              "array([                  14,                   70,                 3920,\n",
              "                     211680,              1693440,             20321280,\n",
              "                 1971164160,         145866147840,        8751968870400,\n",
              "            376334661427200,    25590756977049600,  1561036175600025600,\n",
              "        -132586008146247680, -9015848553944842240, -8485616894032740352])"
            ]
          },
          "metadata": {},
          "execution_count": 70
        }
      ]
    },
    {
      "cell_type": "markdown",
      "source": [
        "**np.percentile**\n",
        "* `numpy.percentile()`function used to compute the nth percentile of the given data (array elements) along the specified axis."
      ],
      "metadata": {
        "id": "XJFS0zTJKmKF"
      }
    },
    {
      "cell_type": "code",
      "source": [
        "a"
      ],
      "metadata": {
        "colab": {
          "base_uri": "https://localhost:8080/"
        },
        "id": "mAC4LEBMKjxk",
        "outputId": "f01c9fce-1e3f-40ea-fd48-1ebac8ae877c"
      },
      "execution_count": 71,
      "outputs": [
        {
          "output_type": "execute_result",
          "data": {
            "text/plain": [
              "array([14,  5, 56, 54,  8, 12, 97, 74, 60, 43, 68, 61, 59, 68, 48])"
            ]
          },
          "metadata": {},
          "execution_count": 71
        }
      ]
    },
    {
      "cell_type": "code",
      "source": [
        "np.percentile(a,50)"
      ],
      "metadata": {
        "colab": {
          "base_uri": "https://localhost:8080/"
        },
        "id": "Zm2MiJAKKtwc",
        "outputId": "4b3233f8-d902-48a7-9089-f0febdd530d6"
      },
      "execution_count": 72,
      "outputs": [
        {
          "output_type": "execute_result",
          "data": {
            "text/plain": [
              "np.float64(56.0)"
            ]
          },
          "metadata": {},
          "execution_count": 72
        }
      ]
    },
    {
      "cell_type": "code",
      "source": [
        "np.median(a)"
      ],
      "metadata": {
        "colab": {
          "base_uri": "https://localhost:8080/"
        },
        "id": "2DtUwzi9KyfX",
        "outputId": "be9737e4-8263-4f35-cd25-247591e516fd"
      },
      "execution_count": 73,
      "outputs": [
        {
          "output_type": "execute_result",
          "data": {
            "text/plain": [
              "np.float64(56.0)"
            ]
          },
          "metadata": {},
          "execution_count": 73
        }
      ]
    },
    {
      "cell_type": "markdown",
      "source": [
        "**np.histogram**\n",
        "* Numpy has a built-in `numpy.histogram()` function which represents the frequency of data distribution in the graphical form."
      ],
      "metadata": {
        "id": "fC1svspVK3Jy"
      }
    },
    {
      "cell_type": "code",
      "source": [
        "# code\n",
        "a"
      ],
      "metadata": {
        "colab": {
          "base_uri": "https://localhost:8080/"
        },
        "id": "Ynbrx8nTK0Kr",
        "outputId": "e67ec4e0-8ba2-417b-af7c-7c32bfdb385b"
      },
      "execution_count": 74,
      "outputs": [
        {
          "output_type": "execute_result",
          "data": {
            "text/plain": [
              "array([14,  5, 56, 54,  8, 12, 97, 74, 60, 43, 68, 61, 59, 68, 48])"
            ]
          },
          "metadata": {},
          "execution_count": 74
        }
      ]
    },
    {
      "cell_type": "code",
      "source": [
        "np.histogram(a,bins=[0,50,100])"
      ],
      "metadata": {
        "colab": {
          "base_uri": "https://localhost:8080/"
        },
        "id": "jPDIzaLrK9xr",
        "outputId": "dc2b9fd4-3484-4801-9dae-363f8ce5567e"
      },
      "execution_count": 75,
      "outputs": [
        {
          "output_type": "execute_result",
          "data": {
            "text/plain": [
              "(array([6, 9]), array([  0,  50, 100]))"
            ]
          },
          "metadata": {},
          "execution_count": 75
        }
      ]
    },
    {
      "cell_type": "code",
      "source": [
        "a[a<50]"
      ],
      "metadata": {
        "colab": {
          "base_uri": "https://localhost:8080/"
        },
        "id": "l6wAqpORLASc",
        "outputId": "c1ebebca-b528-419a-f7e4-747b39459ee6"
      },
      "execution_count": 76,
      "outputs": [
        {
          "output_type": "execute_result",
          "data": {
            "text/plain": [
              "array([14,  5,  8, 12, 43, 48])"
            ]
          },
          "metadata": {},
          "execution_count": 76
        }
      ]
    },
    {
      "cell_type": "code",
      "source": [
        "a[a>50]"
      ],
      "metadata": {
        "colab": {
          "base_uri": "https://localhost:8080/"
        },
        "id": "X2P8OEMBLL89",
        "outputId": "2d5cea1c-26bf-489d-dc8a-ce1fd8c932a9"
      },
      "execution_count": 77,
      "outputs": [
        {
          "output_type": "execute_result",
          "data": {
            "text/plain": [
              "array([56, 54, 97, 74, 60, 68, 61, 59, 68])"
            ]
          },
          "metadata": {},
          "execution_count": 77
        }
      ]
    },
    {
      "cell_type": "markdown",
      "source": [
        "**np.isin**\n",
        "With the help of `numpy.isin()` method, we can see that one array having values are checked in a different numpy array having different elements with different sizes."
      ],
      "metadata": {
        "id": "ClZNfU61LqNH"
      }
    },
    {
      "cell_type": "code",
      "source": [
        "# code\n",
        "a\n"
      ],
      "metadata": {
        "colab": {
          "base_uri": "https://localhost:8080/"
        },
        "id": "QOhpnN65LOWa",
        "outputId": "199563c7-e375-474b-ec7f-009f362730b0"
      },
      "execution_count": 78,
      "outputs": [
        {
          "output_type": "execute_result",
          "data": {
            "text/plain": [
              "array([14,  5, 56, 54,  8, 12, 97, 74, 60, 43, 68, 61, 59, 68, 48])"
            ]
          },
          "metadata": {},
          "execution_count": 78
        }
      ]
    },
    {
      "cell_type": "code",
      "source": [
        "items = [10,20,30,40,50,60,70,80,90,100]\n",
        "\n",
        "a[np.isin(a,items)]\n",
        "# np.isin(a,items)"
      ],
      "metadata": {
        "colab": {
          "base_uri": "https://localhost:8080/"
        },
        "id": "YFlWA8zELual",
        "outputId": "cede1168-7fa3-4799-862c-cd4a01c4a75c"
      },
      "execution_count": 81,
      "outputs": [
        {
          "output_type": "execute_result",
          "data": {
            "text/plain": [
              "array([60])"
            ]
          },
          "metadata": {},
          "execution_count": 81
        }
      ]
    },
    {
      "cell_type": "markdown",
      "source": [
        "**np.flip**\n",
        "* The `numpy.flip()` function reverses the order of array elements along the specified axis, preserving the shape of the array."
      ],
      "metadata": {
        "id": "E64KMrmYMPAV"
      }
    },
    {
      "cell_type": "code",
      "source": [
        "a\n"
      ],
      "metadata": {
        "colab": {
          "base_uri": "https://localhost:8080/"
        },
        "id": "l3XSi7MmLv6J",
        "outputId": "01108da2-3f99-4cc8-9b6b-458c8f00f303"
      },
      "execution_count": 82,
      "outputs": [
        {
          "output_type": "execute_result",
          "data": {
            "text/plain": [
              "array([14,  5, 56, 54,  8, 12, 97, 74, 60, 43, 68, 61, 59, 68, 48])"
            ]
          },
          "metadata": {},
          "execution_count": 82
        }
      ]
    },
    {
      "cell_type": "code",
      "source": [
        "np.flip(a)"
      ],
      "metadata": {
        "colab": {
          "base_uri": "https://localhost:8080/"
        },
        "id": "joQ1J3zOMSvx",
        "outputId": "65b381c3-0434-42e9-dde3-e2f1f51c5ab7"
      },
      "execution_count": 83,
      "outputs": [
        {
          "output_type": "execute_result",
          "data": {
            "text/plain": [
              "array([48, 68, 59, 61, 68, 43, 60, 74, 97, 12,  8, 54, 56,  5, 14])"
            ]
          },
          "metadata": {},
          "execution_count": 83
        }
      ]
    },
    {
      "cell_type": "code",
      "source": [
        "b"
      ],
      "metadata": {
        "colab": {
          "base_uri": "https://localhost:8080/"
        },
        "id": "gdP6vaAXMUq-",
        "outputId": "e0669857-7049-4b5f-ab81-aaed8665ea0e"
      },
      "execution_count": 84,
      "outputs": [
        {
          "output_type": "execute_result",
          "data": {
            "text/plain": [
              "array([[12, 93, 96, 13],\n",
              "       [ 2, 25, 14, 70],\n",
              "       [28, 59, 32, 94],\n",
              "       [41, 35, 87, 42],\n",
              "       [27, 29, 66, 37],\n",
              "       [27, 70, 64, 42]])"
            ]
          },
          "metadata": {},
          "execution_count": 84
        }
      ]
    },
    {
      "cell_type": "code",
      "source": [
        "np.flip(b,axis = 1)"
      ],
      "metadata": {
        "colab": {
          "base_uri": "https://localhost:8080/"
        },
        "id": "vpJT4ejQMWGH",
        "outputId": "1e2c1342-df50-48c8-af70-10740f6706d9"
      },
      "execution_count": 85,
      "outputs": [
        {
          "output_type": "execute_result",
          "data": {
            "text/plain": [
              "array([[13, 96, 93, 12],\n",
              "       [70, 14, 25,  2],\n",
              "       [94, 32, 59, 28],\n",
              "       [42, 87, 35, 41],\n",
              "       [37, 66, 29, 27],\n",
              "       [42, 64, 70, 27]])"
            ]
          },
          "metadata": {},
          "execution_count": 85
        }
      ]
    },
    {
      "cell_type": "code",
      "source": [
        "np.flip(b,axis = 0)"
      ],
      "metadata": {
        "colab": {
          "base_uri": "https://localhost:8080/"
        },
        "id": "Qc3OyxslMYtn",
        "outputId": "8eb1a456-bbd5-4c16-c240-70f30a9934ed"
      },
      "execution_count": 86,
      "outputs": [
        {
          "output_type": "execute_result",
          "data": {
            "text/plain": [
              "array([[27, 70, 64, 42],\n",
              "       [27, 29, 66, 37],\n",
              "       [41, 35, 87, 42],\n",
              "       [28, 59, 32, 94],\n",
              "       [ 2, 25, 14, 70],\n",
              "       [12, 93, 96, 13]])"
            ]
          },
          "metadata": {},
          "execution_count": 86
        }
      ]
    },
    {
      "cell_type": "markdown",
      "source": [
        "**np.put**\n",
        "* The `numpy.put(`) function replaces specific elements of an array with given values of p_array. Array indexed works on flattened array."
      ],
      "metadata": {
        "id": "rR1h-FJQMe-n"
      }
    },
    {
      "cell_type": "code",
      "source": [
        "a"
      ],
      "metadata": {
        "colab": {
          "base_uri": "https://localhost:8080/"
        },
        "id": "5uDnsMdmMbG8",
        "outputId": "df725784-dd9d-4f69-c363-420adbcd5f5b"
      },
      "execution_count": 87,
      "outputs": [
        {
          "output_type": "execute_result",
          "data": {
            "text/plain": [
              "array([14,  5, 56, 54,  8, 12, 97, 74, 60, 43, 68, 61, 59, 68, 48])"
            ]
          },
          "metadata": {},
          "execution_count": 87
        }
      ]
    },
    {
      "cell_type": "code",
      "source": [
        "np.put(a,0,1000)"
      ],
      "metadata": {
        "id": "qcomvUQcMqot"
      },
      "execution_count": 88,
      "outputs": []
    },
    {
      "cell_type": "code",
      "source": [
        "a"
      ],
      "metadata": {
        "colab": {
          "base_uri": "https://localhost:8080/"
        },
        "id": "rleg5G_kM0Jb",
        "outputId": "4b4eb572-5117-4f28-86d6-93e0d27f976d"
      },
      "execution_count": 89,
      "outputs": [
        {
          "output_type": "execute_result",
          "data": {
            "text/plain": [
              "array([1000,    5,   56,   54,    8,   12,   97,   74,   60,   43,   68,\n",
              "         61,   59,   68,   48])"
            ]
          },
          "metadata": {},
          "execution_count": 89
        }
      ]
    },
    {
      "cell_type": "code",
      "source": [
        "np.put(a,[2,4],[15,20])"
      ],
      "metadata": {
        "id": "AwetYmMtM1HX"
      },
      "execution_count": 93,
      "outputs": []
    },
    {
      "cell_type": "code",
      "source": [
        "a\n"
      ],
      "metadata": {
        "colab": {
          "base_uri": "https://localhost:8080/"
        },
        "id": "9c7XO_QxM97Z",
        "outputId": "5a9500f5-23a6-4278-b29a-42df32179d5b"
      },
      "execution_count": 94,
      "outputs": [
        {
          "output_type": "execute_result",
          "data": {
            "text/plain": [
              "array([1000,    5,   15,   54,   20,   12,   97,   74,   60,   43,   68,\n",
              "         61,   59,   68,   48])"
            ]
          },
          "metadata": {},
          "execution_count": 94
        }
      ]
    },
    {
      "cell_type": "markdown",
      "source": [
        "**np.delete**\n",
        "* The `numpy.delete()` function returns a new array with the deletion of sub-arrays along with the mentioned axis."
      ],
      "metadata": {
        "id": "1RCspGOcNRSh"
      }
    },
    {
      "cell_type": "code",
      "source": [
        "a"
      ],
      "metadata": {
        "colab": {
          "base_uri": "https://localhost:8080/"
        },
        "id": "a7I4RktINO6u",
        "outputId": "698804a4-e98e-404f-b866-4137bd702018"
      },
      "execution_count": 95,
      "outputs": [
        {
          "output_type": "execute_result",
          "data": {
            "text/plain": [
              "array([1000,    5,   15,   54,   20,   12,   97,   74,   60,   43,   68,\n",
              "         61,   59,   68,   48])"
            ]
          },
          "metadata": {},
          "execution_count": 95
        }
      ]
    },
    {
      "cell_type": "code",
      "source": [
        "np.delete(a,[0,2,4])"
      ],
      "metadata": {
        "colab": {
          "base_uri": "https://localhost:8080/"
        },
        "id": "HhfXET4PNd24",
        "outputId": "b6feaea9-9a34-4edc-eed1-bfc3e654a64f"
      },
      "execution_count": 96,
      "outputs": [
        {
          "output_type": "execute_result",
          "data": {
            "text/plain": [
              "array([ 5, 54, 12, 97, 74, 60, 43, 68, 61, 59, 68, 48])"
            ]
          },
          "metadata": {},
          "execution_count": 96
        }
      ]
    },
    {
      "cell_type": "markdown",
      "source": [
        "# Set functions\n",
        "* np.union1d\n",
        "* np.intersect1d\n",
        "* np.setdiff1d\n",
        "* np.setxor1d\n",
        "* np.in1d"
      ],
      "metadata": {
        "id": "ZZIj_KMyNm11"
      }
    },
    {
      "cell_type": "code",
      "source": [
        "m = np.array([1,2,3,4,5])\n",
        "n = np.array([3,4,5,6,7])\n",
        "\n",
        "np.union1d(m,n)"
      ],
      "metadata": {
        "colab": {
          "base_uri": "https://localhost:8080/"
        },
        "id": "hyHMxLWuNfoO",
        "outputId": "46f649ef-24e0-4677-f8c7-fdd74c6a8cf9"
      },
      "execution_count": 97,
      "outputs": [
        {
          "output_type": "execute_result",
          "data": {
            "text/plain": [
              "array([1, 2, 3, 4, 5, 6, 7])"
            ]
          },
          "metadata": {},
          "execution_count": 97
        }
      ]
    },
    {
      "cell_type": "code",
      "source": [
        "np.intersect1d(m,n)"
      ],
      "metadata": {
        "colab": {
          "base_uri": "https://localhost:8080/"
        },
        "id": "OJtD25sONxCr",
        "outputId": "1bf89aba-62a7-422e-fa1a-78b9833d289b"
      },
      "execution_count": 98,
      "outputs": [
        {
          "output_type": "execute_result",
          "data": {
            "text/plain": [
              "array([3, 4, 5])"
            ]
          },
          "metadata": {},
          "execution_count": 98
        }
      ]
    },
    {
      "cell_type": "code",
      "source": [
        "np.setdiff1d(n,m)"
      ],
      "metadata": {
        "colab": {
          "base_uri": "https://localhost:8080/"
        },
        "id": "q81QlXR5NymZ",
        "outputId": "b62ef228-5269-4499-a682-2871b521fbb7"
      },
      "execution_count": 99,
      "outputs": [
        {
          "output_type": "execute_result",
          "data": {
            "text/plain": [
              "array([6, 7])"
            ]
          },
          "metadata": {},
          "execution_count": 99
        }
      ]
    },
    {
      "cell_type": "markdown",
      "source": [
        "**np.clip**\n",
        "* `numpy.clip()` function is used to Clip (limit) the values in an array."
      ],
      "metadata": {
        "id": "_clx8DRzN85S"
      }
    },
    {
      "cell_type": "code",
      "source": [
        "a"
      ],
      "metadata": {
        "colab": {
          "base_uri": "https://localhost:8080/"
        },
        "id": "Cl4Z2KouN3Wj",
        "outputId": "bec7d8f5-a3c9-432a-dfb8-7571b9f13c0b"
      },
      "execution_count": 101,
      "outputs": [
        {
          "output_type": "execute_result",
          "data": {
            "text/plain": [
              "array([1000,    5,   15,   54,   20,   12,   97,   74,   60,   43,   68,\n",
              "         61,   59,   68,   48])"
            ]
          },
          "metadata": {},
          "execution_count": 101
        }
      ]
    },
    {
      "cell_type": "code",
      "source": [
        "np.clip(a,a_min=25,a_max=75)"
      ],
      "metadata": {
        "colab": {
          "base_uri": "https://localhost:8080/"
        },
        "id": "ewoXIoykOC9i",
        "outputId": "c9acfb51-e064-48e8-ae9e-619050ba976c"
      },
      "execution_count": 102,
      "outputs": [
        {
          "output_type": "execute_result",
          "data": {
            "text/plain": [
              "array([75, 25, 25, 54, 25, 25, 75, 74, 60, 43, 68, 61, 59, 68, 48])"
            ]
          },
          "metadata": {},
          "execution_count": 102
        }
      ]
    }
  ]
}